{
 "cells": [
  {
   "cell_type": "markdown",
   "id": "eccd9768",
   "metadata": {},
   "source": [
    "# $ \\text{Т.2} $\n",
    "\n",
    "$ \\text{В таблице приведены данные о содержании иммуноглобулина Ig A} \\\\ \\text{ в сыворотке крови у больных пяти возрастных групп:} $\n",
    "\n",
    "| № | Содержание Ig A(%)                         |\n",
    "|:-:|:-------------------------------------------|\n",
    "| 1 | 83, 85                                     |\n",
    "| 2 | 84, 85, 85, 86, 86, 87                     |\n",
    "| 3 | 86, 87, 87, 87, 88, 88, 88, 88, 88, 89, 90 |\n",
    "| 4 | 89, 90, 90, 91                             |\n",
    "| 5 | 90, 92                                     |\n",
    "\n"
   ]
  },
  {
   "cell_type": "code",
   "execution_count": 1,
   "id": "b7cfb9c0",
   "metadata": {},
   "outputs": [],
   "source": [
    "from rich.console import Console\n",
    "from rich.table import Table\n",
    "from rich.panel import Panel\n",
    "\n",
    "import numpy as np\n",
    "import pandas as pd\n",
    "import scipy.stats as st\n",
    "import statsmodels.api as sm\n",
    "\n",
    "from statsmodels.formula.api import ols\n",
    "\n",
    "\n",
    "console = Console()\n",
    "table = Table()"
   ]
  },
  {
   "cell_type": "markdown",
   "id": "3840bf68",
   "metadata": {},
   "source": [
    "$ \\text{a) Определить влияние возраста на содержание иммуноглобулина} \\\\ \\text{ в крови с помощью регрессионного анализа.} $\n",
    "\n",
    "$ \\text{b) Провести попарное сравнение средних в рамках регрессионной модели,} \\\\ \\text{ с учётом множественности проверяемых гипотез.} $"
   ]
  },
  {
   "cell_type": "code",
   "execution_count": 2,
   "id": "0cc596ba",
   "metadata": {},
   "outputs": [],
   "source": [
    "data = pd.DataFrame({\n",
    "    'Age_Group': [1, 1, 2, 2, 2, 2, 2, 2, 3, 3, 3, 3, 3, 3, 3, 3, 3, 3, 3, 4, 4, 4, 4, 5, 5],\n",
    "    'Ig_A': [83, 85, 84, 85, 85, 86, 86, 87, 86, 87, 87, 87, 88, 88, 88, 88, 88, 89, 90, 89, 90, 90, 91, 90, 92]\n",
    "})\n",
    "\n",
    "group_data = {\n",
    "    1: [83, 85],\n",
    "    2: [84, 85, 85, 86, 86, 87],\n",
    "    3: [86, 87, 87, 87, 88, 88, 88, 88, 88, 89, 90],\n",
    "    4: [89, 90, 90, 91],\n",
    "    5: [90, 92]\n",
    "}\n",
    "\n",
    "# Создание индикаторных переменных\n",
    "base = 3\n",
    "dummies = pd.get_dummies(data['Age_Group'],\n",
    "                         prefix='Age', dtype=int).drop(columns=[f'Age_{base}'])\n",
    "\n",
    "dummies_clear = dummies.copy()\n",
    "\n",
    "r_squared_data = []\n",
    "dropped_ages = []\n",
    "\n",
    "for k in range(1, 5 + 1):\n",
    "  # Регрессия на остальные переменные\n",
    "  if (k != base):\n",
    "    model = sm.OLS(dummies_clear[f'Age_{k}'], sm.add_constant(\n",
    "      dummies_clear.drop(f'Age_{k}', axis=1))).fit()\n",
    "    r_squared = model.rsquared\n",
    "    r_squared_data.append({\"Age\": f\"Age_{k}\", \"R-squared\": f\"{r_squared:.3f}\"})\n",
    "    drop_suggestion = False\n",
    "\n",
    "    if (r_squared > 0.7):\n",
    "      drop_suggestion = True\n",
    "      dropped_ages.append(f\"Age_{k}\")\n",
    "      dummies_clear = dummies_clear.drop(f'Age_{k}', axis=1)\n",
    "\n",
    "# Регрессия\n",
    "X = sm.add_constant(dummies_clear)\n",
    "model = sm.OLS(data['Ig_A'], X).fit()"
   ]
  },
  {
   "cell_type": "code",
   "execution_count": 3,
   "id": "9d57a749",
   "metadata": {},
   "outputs": [
    {
     "data": {
      "text/html": [
       "<pre style=\"white-space:pre;overflow-x:auto;line-height:normal;font-family:Menlo,'DejaVu Sans Mono',consolas,'Courier New',monospace\"><span style=\"font-style: italic\">R-squared для возрастных </span>\n",
       "<span style=\"font-style: italic\">          групп          </span>\n",
       "┏━━━━━━━━━━━┳━━━━━━━━━━━┓\n",
       "┃<span style=\"font-weight: bold\"> Age Group </span>┃<span style=\"font-weight: bold\"> R-squared </span>┃\n",
       "┡━━━━━━━━━━━╇━━━━━━━━━━━┩\n",
       "│ Age_1     │<span style=\"font-weight: bold\"> 0.080     </span>│\n",
       "│ Age_2     │<span style=\"font-weight: bold\"> 0.149     </span>│\n",
       "│ Age_4     │<span style=\"font-weight: bold\"> 0.127     </span>│\n",
       "│ Age_5     │<span style=\"font-weight: bold\"> 0.080     </span>│\n",
       "└───────────┴───────────┘\n",
       "</pre>\n"
      ],
      "text/plain": [
       "\u001b[3mR-squared для возрастных \u001b[0m\n",
       "\u001b[3m          групп          \u001b[0m\n",
       "┏━━━━━━━━━━━┳━━━━━━━━━━━┓\n",
       "┃\u001b[1m \u001b[0m\u001b[1mAge Group\u001b[0m\u001b[1m \u001b[0m┃\u001b[1m \u001b[0m\u001b[1mR-squared\u001b[0m\u001b[1m \u001b[0m┃\n",
       "┡━━━━━━━━━━━╇━━━━━━━━━━━┩\n",
       "│ Age_1     │\u001b[1m \u001b[0m\u001b[1m0.080    \u001b[0m\u001b[1m \u001b[0m│\n",
       "│ Age_2     │\u001b[1m \u001b[0m\u001b[1m0.149    \u001b[0m\u001b[1m \u001b[0m│\n",
       "│ Age_4     │\u001b[1m \u001b[0m\u001b[1m0.127    \u001b[0m\u001b[1m \u001b[0m│\n",
       "│ Age_5     │\u001b[1m \u001b[0m\u001b[1m0.080    \u001b[0m\u001b[1m \u001b[0m│\n",
       "└───────────┴───────────┘\n"
      ]
     },
     "metadata": {},
     "output_type": "display_data"
    },
    {
     "data": {
      "text/html": [
       "<pre style=\"white-space:pre;overflow-x:auto;line-height:normal;font-family:Menlo,'DejaVu Sans Mono',consolas,'Courier New',monospace\">Для всей модели: <span style=\"color: #008080; text-decoration-color: #008080; font-weight: bold\">0.81061</span>\n",
       "</pre>\n"
      ],
      "text/plain": [
       "Для всей модели: \u001b[1;36m0.81061\u001b[0m\n"
      ]
     },
     "metadata": {},
     "output_type": "display_data"
    }
   ],
   "source": [
    "table = Table(title=\"R-squared для возрастных групп\",\n",
    "              show_header=True)\n",
    "\n",
    "table.add_column(\"Age Group\")\n",
    "table.add_column(\"R-squared\", style=\"bold\")\n",
    "\n",
    "for row in r_squared_data:\n",
    "  table.add_row(row[\"Age\"], row[\"R-squared\"])\n",
    "\n",
    "console.print(table)\n",
    "\n",
    "console.print(f\"Для всей модели: {model.rsquared:.5f}\")"
   ]
  },
  {
   "cell_type": "code",
   "execution_count": 4,
   "id": "b3759fec",
   "metadata": {},
   "outputs": [
    {
     "data": {
      "text/html": [
       "<pre style=\"white-space:pre;overflow-x:auto;line-height:normal;font-family:Menlo,'DejaVu Sans Mono',consolas,'Courier New',monospace\"><span style=\"color: #008000; text-decoration-color: #008000\">╭────────────────────────────────── Потенциально исключенные возрастные группы ───────────────────────────────────╮</span>\n",
       "<span style=\"color: #008000; text-decoration-color: #008000\">│</span> Ни одна возрастная группа не была предложена к исключению.                                                      <span style=\"color: #008000; text-decoration-color: #008000\">│</span>\n",
       "<span style=\"color: #008000; text-decoration-color: #008000\">╰─────────────────────────────────────────────────────────────────────────────────────────────────────────────────╯</span>\n",
       "</pre>\n"
      ],
      "text/plain": [
       "\u001b[32m╭─\u001b[0m\u001b[32m─────────────────────────────────\u001b[0m\u001b[32m Потенциально исключенные возрастные группы \u001b[0m\u001b[32m──────────────────────────────────\u001b[0m\u001b[32m─╮\u001b[0m\n",
       "\u001b[32m│\u001b[0m Ни одна возрастная группа не была предложена к исключению.                                                      \u001b[32m│\u001b[0m\n",
       "\u001b[32m╰─────────────────────────────────────────────────────────────────────────────────────────────────────────────────╯\u001b[0m\n"
      ]
     },
     "metadata": {},
     "output_type": "display_data"
    }
   ],
   "source": [
    "if dropped_ages:\n",
    "  console.print(Panel(\n",
    "    f\"Следующие возрастные группы могут быть исключены из-за высоких значений R-square: {', '.join(dropped_ages)}\",\n",
    "    title=\"Потенциально исключенные возрастные группы\",\n",
    "    border_style=\"yellow\"))\n",
    "else:\n",
    "  console.print(Panel(\"Ни одна возрастная группа не была предложена к исключению.\",\n",
    "                title=\"Потенциально исключенные возрастные группы\", border_style=\"green\"))"
   ]
  },
  {
   "cell_type": "code",
   "execution_count": 5,
   "id": "bc5c6132",
   "metadata": {},
   "outputs": [
    {
     "data": {
      "text/html": [
       "<pre style=\"white-space:pre;overflow-x:auto;line-height:normal;font-family:Menlo,'DejaVu Sans Mono',consolas,'Courier New',monospace\"><span style=\"font-style: italic\">Regression Parameters </span>\n",
       "┏━━━━━━━━━━━┳━━━━━━━━┓\n",
       "┃<span style=\"font-weight: bold\"> Parameter </span>┃<span style=\"font-weight: bold\"> Value  </span>┃\n",
       "┡━━━━━━━━━━━╇━━━━━━━━┩\n",
       "│ const     │<span style=\"font-weight: bold\"> 87.818 </span>│\n",
       "│ Age_1     │<span style=\"font-weight: bold\"> -3.818 </span>│\n",
       "│ Age_2     │<span style=\"font-weight: bold\"> -2.318 </span>│\n",
       "│ Age_4     │<span style=\"font-weight: bold\"> 2.182  </span>│\n",
       "│ Age_5     │<span style=\"font-weight: bold\"> 3.182  </span>│\n",
       "└───────────┴────────┘\n",
       "</pre>\n"
      ],
      "text/plain": [
       "\u001b[3mRegression Parameters \u001b[0m\n",
       "┏━━━━━━━━━━━┳━━━━━━━━┓\n",
       "┃\u001b[1m \u001b[0m\u001b[1mParameter\u001b[0m\u001b[1m \u001b[0m┃\u001b[1m \u001b[0m\u001b[1mValue \u001b[0m\u001b[1m \u001b[0m┃\n",
       "┡━━━━━━━━━━━╇━━━━━━━━┩\n",
       "│ const     │\u001b[1m \u001b[0m\u001b[1m87.818\u001b[0m\u001b[1m \u001b[0m│\n",
       "│ Age_1     │\u001b[1m \u001b[0m\u001b[1m-3.818\u001b[0m\u001b[1m \u001b[0m│\n",
       "│ Age_2     │\u001b[1m \u001b[0m\u001b[1m-2.318\u001b[0m\u001b[1m \u001b[0m│\n",
       "│ Age_4     │\u001b[1m \u001b[0m\u001b[1m2.182 \u001b[0m\u001b[1m \u001b[0m│\n",
       "│ Age_5     │\u001b[1m \u001b[0m\u001b[1m3.182 \u001b[0m\u001b[1m \u001b[0m│\n",
       "└───────────┴────────┘\n"
      ]
     },
     "metadata": {},
     "output_type": "display_data"
    }
   ],
   "source": [
    "params_table = Table(title=\"Regression Parameters\",\n",
    "                     show_header=True)\n",
    "\n",
    "params_table.add_column(\"Parameter\")\n",
    "params_table.add_column(\"Value\", style=\"bold\")\n",
    "\n",
    "for param, value in model.params.items():\n",
    "  params_table.add_row(param, f\"{value:.3f}\")\n",
    "\n",
    "console.print(params_table)"
   ]
  },
  {
   "cell_type": "code",
   "execution_count": 6,
   "id": "b6f7480f",
   "metadata": {},
   "outputs": [
    {
     "data": {
      "text/html": [
       "<pre style=\"white-space:pre;overflow-x:auto;line-height:normal;font-family:Menlo,'DejaVu Sans Mono',consolas,'Courier New',monospace\">b<span style=\"font-weight: bold\">)</span> Попарное сравнение средних <span style=\"font-weight: bold\">(</span>ANOVA<span style=\"font-weight: bold\">)</span>\n",
       "</pre>\n"
      ],
      "text/plain": [
       "b\u001b[1m)\u001b[0m Попарное сравнение средних \u001b[1m(\u001b[0mANOVA\u001b[1m)\u001b[0m\n"
      ]
     },
     "metadata": {},
     "output_type": "display_data"
    },
    {
     "data": {
      "text/html": [
       "<pre style=\"white-space:pre;overflow-x:auto;line-height:normal;font-family:Menlo,'DejaVu Sans Mono',consolas,'Courier New',monospace\"><span style=\"font-style: italic\">                                      ANOVA Таблица                                      </span>                          \n",
       "┏━━━━━━━━━━━━━━┳━━━━━━┳━━━━━━━━━━━━━━━━━━━━┳━━━━━━━━━━━━━━━━━━━━┳━━━━━━━━━━━━━━━━━━━━━━━┓                          \n",
       "┃<span style=\"font-weight: bold\"> Source       </span>┃<span style=\"font-weight: bold\"> df   </span>┃<span style=\"font-weight: bold\"> sum_sq             </span>┃<span style=\"font-weight: bold\"> F                  </span>┃<span style=\"font-weight: bold\"> PR(&gt;F)                </span>┃                          \n",
       "┡━━━━━━━━━━━━━━╇━━━━━━╇━━━━━━━━━━━━━━━━━━━━╇━━━━━━━━━━━━━━━━━━━━╇━━━━━━━━━━━━━━━━━━━━━━━┩                          \n",
       "│<span style=\"font-weight: bold\"> C(Age_Group) </span>│<span style=\"font-weight: bold\"> 4.0  </span>│<span style=\"font-weight: bold\"> 99.0236363636357   </span>│<span style=\"font-weight: bold\"> 21.399999999999856 </span>│<span style=\"font-weight: bold\"> 5.407435042473989e-07 </span>│                          \n",
       "│<span style=\"font-weight: bold\"> Residual     </span>│<span style=\"font-weight: bold\"> 20.0 </span>│<span style=\"font-weight: bold\"> 23.136363636363637 </span>│<span style=\"font-weight: bold\"> nan                </span>│<span style=\"font-weight: bold\"> nan                   </span>│                          \n",
       "└──────────────┴──────┴────────────────────┴────────────────────┴───────────────────────┘                          \n",
       "</pre>\n"
      ],
      "text/plain": [
       "\u001b[3m                                      ANOVA Таблица                                      \u001b[0m                          \n",
       "┏━━━━━━━━━━━━━━┳━━━━━━┳━━━━━━━━━━━━━━━━━━━━┳━━━━━━━━━━━━━━━━━━━━┳━━━━━━━━━━━━━━━━━━━━━━━┓                          \n",
       "┃\u001b[1m \u001b[0m\u001b[1mSource      \u001b[0m\u001b[1m \u001b[0m┃\u001b[1m \u001b[0m\u001b[1mdf  \u001b[0m\u001b[1m \u001b[0m┃\u001b[1m \u001b[0m\u001b[1msum_sq            \u001b[0m\u001b[1m \u001b[0m┃\u001b[1m \u001b[0m\u001b[1mF                 \u001b[0m\u001b[1m \u001b[0m┃\u001b[1m \u001b[0m\u001b[1mPR(>F)               \u001b[0m\u001b[1m \u001b[0m┃                          \n",
       "┡━━━━━━━━━━━━━━╇━━━━━━╇━━━━━━━━━━━━━━━━━━━━╇━━━━━━━━━━━━━━━━━━━━╇━━━━━━━━━━━━━━━━━━━━━━━┩                          \n",
       "│\u001b[1m \u001b[0m\u001b[1mC(Age_Group)\u001b[0m\u001b[1m \u001b[0m│\u001b[1m \u001b[0m\u001b[1m4.0 \u001b[0m\u001b[1m \u001b[0m│\u001b[1m \u001b[0m\u001b[1m99.0236363636357  \u001b[0m\u001b[1m \u001b[0m│\u001b[1m \u001b[0m\u001b[1m21.399999999999856\u001b[0m\u001b[1m \u001b[0m│\u001b[1m \u001b[0m\u001b[1m5.407435042473989e-07\u001b[0m\u001b[1m \u001b[0m│                          \n",
       "│\u001b[1m \u001b[0m\u001b[1mResidual    \u001b[0m\u001b[1m \u001b[0m│\u001b[1m \u001b[0m\u001b[1m20.0\u001b[0m\u001b[1m \u001b[0m│\u001b[1m \u001b[0m\u001b[1m23.136363636363637\u001b[0m\u001b[1m \u001b[0m│\u001b[1m \u001b[0m\u001b[1mnan               \u001b[0m\u001b[1m \u001b[0m│\u001b[1m \u001b[0m\u001b[1mnan                  \u001b[0m\u001b[1m \u001b[0m│                          \n",
       "└──────────────┴──────┴────────────────────┴────────────────────┴───────────────────────┘                          \n"
      ]
     },
     "metadata": {},
     "output_type": "display_data"
    }
   ],
   "source": [
    "# ANOVA\n",
    "anova_model = ols('Ig_A ~ C(Age_Group)', data=data).fit()\n",
    "anova_table = sm.stats.anova_lm(anova_model, typ=2)\n",
    "\n",
    "anova_table_rich = Table(title=\"ANOVA Таблица\")\n",
    "\n",
    "labels = [\"df\", \"sum_sq\", \"F\", \"PR(>F)\"]\n",
    "\n",
    "anova_table_rich.add_column(\"Source\", style=\"bold\")\n",
    "for label in labels:\n",
    "  anova_table_rich.add_column(label, style=\"bold\")\n",
    "\n",
    "for index, row in anova_table.iterrows():\n",
    "  anova_table_rich.add_row(\n",
    "      str(index),\n",
    "      *[str(row[label]) for label in labels]\n",
    "  )\n",
    "\n",
    "console.print(\"b) Попарное сравнение средних (ANOVA)\")\n",
    "console.print(anova_table_rich, justify=\"left\")"
   ]
  },
  {
   "cell_type": "code",
   "execution_count": 7,
   "id": "8941babc",
   "metadata": {},
   "outputs": [],
   "source": [
    "s_2 = [len(group_data[i + 1]) * (np.std(group_data[i + 1]))**2 /\n",
    "       (len(group_data[i + 1]) - 1) for i in range(len(group_data))]\n",
    "\n",
    "pairs = [(i, j) for i in range(1, 6) for j in range(i + 1, 6)]"
   ]
  },
  {
   "cell_type": "code",
   "execution_count": 8,
   "id": "e4a2b215",
   "metadata": {},
   "outputs": [
    {
     "data": {
      "text/html": [
       "<pre style=\"white-space:pre;overflow-x:auto;line-height:normal;font-family:Menlo,'DejaVu Sans Mono',consolas,'Courier New',monospace\"><span style=\"font-weight: bold\">Проверка на равенство дисперсий</span>\n",
       "</pre>\n"
      ],
      "text/plain": [
       "\u001b[1mПроверка на равенство дисперсий\u001b[0m\n"
      ]
     },
     "metadata": {},
     "output_type": "display_data"
    },
    {
     "data": {
      "text/html": [
       "<pre style=\"white-space:pre;overflow-x:auto;line-height:normal;font-family:Menlo,'DejaVu Sans Mono',consolas,'Courier New',monospace\">┏━━━━━━━━┳━━━━━━━━━━━━━━┳━━━━━━━━━━━━┳━━━━━━━━━━━━━━┓\n",
       "┃<span style=\"font-weight: bold\"> Группы </span>┃<span style=\"font-weight: bold\"> F-статистика </span>┃<span style=\"font-weight: bold\"> P-значение </span>┃<span style=\"font-weight: bold\">  Результат   </span>┃\n",
       "┡━━━━━━━━╇━━━━━━━━━━━━━━╇━━━━━━━━━━━━╇━━━━━━━━━━━━━━┩\n",
       "│ 1, 2   │    1.8182    │   0.2354   │ <span style=\"color: #008000; text-decoration-color: #008000\">Принимаем H₀</span> │\n",
       "│ 1, 3   │    1.7188    │   0.2192   │ <span style=\"color: #008000; text-decoration-color: #008000\">Принимаем H₀</span> │\n",
       "│ 1, 4   │    3.0000    │   0.1817   │ <span style=\"color: #008000; text-decoration-color: #008000\">Принимаем H₀</span> │\n",
       "│ 1, 5   │    1.0000    │   0.5000   │ <span style=\"color: #008000; text-decoration-color: #008000\">Принимаем H₀</span> │\n",
       "│ 2, 3   │    0.9453    │   0.4930   │ <span style=\"color: #008000; text-decoration-color: #008000\">Принимаем H₀</span> │\n",
       "│ 2, 4   │    1.6500    │   0.3609   │ <span style=\"color: #008000; text-decoration-color: #008000\">Принимаем H₀</span> │\n",
       "│ 2, 5   │    0.5500    │   0.7646   │ <span style=\"color: #008000; text-decoration-color: #008000\">Принимаем H₀</span> │\n",
       "│ 3, 4   │    1.7455    │   0.3544   │ <span style=\"color: #008000; text-decoration-color: #008000\">Принимаем H₀</span> │\n",
       "│ 3, 5   │    0.5818    │   0.7808   │ <span style=\"color: #008000; text-decoration-color: #008000\">Принимаем H₀</span> │\n",
       "│ 4, 5   │    0.3333    │   0.8183   │ <span style=\"color: #008000; text-decoration-color: #008000\">Принимаем H₀</span> │\n",
       "└────────┴──────────────┴────────────┴──────────────┘\n",
       "</pre>\n"
      ],
      "text/plain": [
       "┏━━━━━━━━┳━━━━━━━━━━━━━━┳━━━━━━━━━━━━┳━━━━━━━━━━━━━━┓\n",
       "┃\u001b[1m \u001b[0m\u001b[1mГруппы\u001b[0m\u001b[1m \u001b[0m┃\u001b[1m \u001b[0m\u001b[1mF-статистика\u001b[0m\u001b[1m \u001b[0m┃\u001b[1m \u001b[0m\u001b[1mP-значение\u001b[0m\u001b[1m \u001b[0m┃\u001b[1m \u001b[0m\u001b[1m Результат  \u001b[0m\u001b[1m \u001b[0m┃\n",
       "┡━━━━━━━━╇━━━━━━━━━━━━━━╇━━━━━━━━━━━━╇━━━━━━━━━━━━━━┩\n",
       "│ 1, 2   │    1.8182    │   0.2354   │ \u001b[32mПринимаем H₀\u001b[0m │\n",
       "│ 1, 3   │    1.7188    │   0.2192   │ \u001b[32mПринимаем H₀\u001b[0m │\n",
       "│ 1, 4   │    3.0000    │   0.1817   │ \u001b[32mПринимаем H₀\u001b[0m │\n",
       "│ 1, 5   │    1.0000    │   0.5000   │ \u001b[32mПринимаем H₀\u001b[0m │\n",
       "│ 2, 3   │    0.9453    │   0.4930   │ \u001b[32mПринимаем H₀\u001b[0m │\n",
       "│ 2, 4   │    1.6500    │   0.3609   │ \u001b[32mПринимаем H₀\u001b[0m │\n",
       "│ 2, 5   │    0.5500    │   0.7646   │ \u001b[32mПринимаем H₀\u001b[0m │\n",
       "│ 3, 4   │    1.7455    │   0.3544   │ \u001b[32mПринимаем H₀\u001b[0m │\n",
       "│ 3, 5   │    0.5818    │   0.7808   │ \u001b[32mПринимаем H₀\u001b[0m │\n",
       "│ 4, 5   │    0.3333    │   0.8183   │ \u001b[32mПринимаем H₀\u001b[0m │\n",
       "└────────┴──────────────┴────────────┴──────────────┘\n"
      ]
     },
     "metadata": {},
     "output_type": "display_data"
    }
   ],
   "source": [
    "# --- Проверка на равенство дисперсий ---\n",
    "console.print(\"[bold]Проверка на равенство дисперсий[/bold]\")\n",
    "variance_table = Table(show_header=True, header_style=\"bold\")\n",
    "variance_table.add_column(\"Группы\")\n",
    "variance_table.add_column(\"F-статистика\", justify=\"center\")\n",
    "variance_table.add_column(\"P-значение\", justify=\"center\")\n",
    "variance_table.add_column(\"Результат\", justify=\"center\")\n",
    "\n",
    "for pair in pairs:\n",
    "  n = len(group_data[pair[0]])\n",
    "  m = len(group_data[pair[1]])\n",
    "  s2x = n / (n - 1) * np.std(group_data[pair[0]]) ** 2\n",
    "  s2y = m / (m - 1) * np.std(group_data[pair[1]]) ** 2\n",
    "  delta = s2x / s2y\n",
    "  p_value = st.f.sf(delta, n - 1, m - 1)\n",
    "\n",
    "  result_text = \"[red]Отвергаем H₀[/red]\" if (p_value < 0.05) else \"[green]Принимаем H₀[/green]\"\n",
    "\n",
    "  variance_table.add_row(\n",
    "      f\"{pair[0]}, {pair[1]}\",\n",
    "      f\"{delta:.4f}\",\n",
    "      f\"{p_value:.4f}\",\n",
    "      result_text\n",
    "  )\n",
    "\n",
    "console.print(variance_table)"
   ]
  },
  {
   "cell_type": "code",
   "execution_count": 9,
   "id": "3592a760",
   "metadata": {},
   "outputs": [
    {
     "data": {
      "text/html": [
       "<pre style=\"white-space:pre;overflow-x:auto;line-height:normal;font-family:Menlo,'DejaVu Sans Mono',consolas,'Courier New',monospace\"><span style=\"font-weight: bold\">T-тест</span>\n",
       "</pre>\n"
      ],
      "text/plain": [
       "\u001b[1mT-тест\u001b[0m\n"
      ]
     },
     "metadata": {},
     "output_type": "display_data"
    },
    {
     "data": {
      "text/html": [
       "<pre style=\"white-space:pre;overflow-x:auto;line-height:normal;font-family:Menlo,'DejaVu Sans Mono',consolas,'Courier New',monospace\">┏━━━━━━━━┳━━━━━━━━━┳━━━━━━━━━━━━┳━━━━━━━━━━━━━━━━━━━━━┓\n",
       "┃<span style=\"font-weight: bold\"> Группы </span>┃<span style=\"font-weight: bold\"> Дельта  </span>┃<span style=\"font-weight: bold\"> P-значение </span>┃<span style=\"font-weight: bold\">      Результат      </span>┃\n",
       "┡━━━━━━━━╇━━━━━━━━━╇━━━━━━━━━━━━╇━━━━━━━━━━━━━━━━━━━━━┩\n",
       "│ 1, 2   │ -1.6432 │   0.1515   │ <span style=\"color: #008000; text-decoration-color: #008000\">Незначимое различие</span> │\n",
       "│ 1, 3   │ -4.4611 │   0.0010   │  <span style=\"color: #800000; text-decoration-color: #800000\">Значимое различие</span>  │\n",
       "│ 1, 4   │ -6.9282 │   0.0023   │  <span style=\"color: #800000; text-decoration-color: #800000\">Значимое различие</span>  │\n",
       "│ 1, 5   │ -4.9497 │   0.0385   │  <span style=\"color: #800000; text-decoration-color: #800000\">Значимое различие</span>  │\n",
       "│ 2, 3   │ -4.2735 │   0.0007   │  <span style=\"color: #800000; text-decoration-color: #800000\">Значимое различие</span>  │\n",
       "│ 2, 4   │ -7.2000 │   0.0001   │  <span style=\"color: #800000; text-decoration-color: #800000\">Значимое различие</span>  │\n",
       "│ 2, 5   │ -6.0249 │   0.0009   │  <span style=\"color: #800000; text-decoration-color: #800000\">Значимое различие</span>  │\n",
       "│ 3, 4   │ -3.6486 │   0.0029   │  <span style=\"color: #800000; text-decoration-color: #800000\">Значимое различие</span>  │\n",
       "│ 3, 5   │ -3.7176 │   0.0034   │  <span style=\"color: #800000; text-decoration-color: #800000\">Значимое различие</span>  │\n",
       "│ 4, 5   │ -1.1547 │   0.3125   │ <span style=\"color: #008000; text-decoration-color: #008000\">Незначимое различие</span> │\n",
       "└────────┴─────────┴────────────┴─────────────────────┘\n",
       "</pre>\n"
      ],
      "text/plain": [
       "┏━━━━━━━━┳━━━━━━━━━┳━━━━━━━━━━━━┳━━━━━━━━━━━━━━━━━━━━━┓\n",
       "┃\u001b[1m \u001b[0m\u001b[1mГруппы\u001b[0m\u001b[1m \u001b[0m┃\u001b[1m \u001b[0m\u001b[1mДельта \u001b[0m\u001b[1m \u001b[0m┃\u001b[1m \u001b[0m\u001b[1mP-значение\u001b[0m\u001b[1m \u001b[0m┃\u001b[1m \u001b[0m\u001b[1m     Результат     \u001b[0m\u001b[1m \u001b[0m┃\n",
       "┡━━━━━━━━╇━━━━━━━━━╇━━━━━━━━━━━━╇━━━━━━━━━━━━━━━━━━━━━┩\n",
       "│ 1, 2   │ -1.6432 │   0.1515   │ \u001b[32mНезначимое различие\u001b[0m │\n",
       "│ 1, 3   │ -4.4611 │   0.0010   │  \u001b[31mЗначимое различие\u001b[0m  │\n",
       "│ 1, 4   │ -6.9282 │   0.0023   │  \u001b[31mЗначимое различие\u001b[0m  │\n",
       "│ 1, 5   │ -4.9497 │   0.0385   │  \u001b[31mЗначимое различие\u001b[0m  │\n",
       "│ 2, 3   │ -4.2735 │   0.0007   │  \u001b[31mЗначимое различие\u001b[0m  │\n",
       "│ 2, 4   │ -7.2000 │   0.0001   │  \u001b[31mЗначимое различие\u001b[0m  │\n",
       "│ 2, 5   │ -6.0249 │   0.0009   │  \u001b[31mЗначимое различие\u001b[0m  │\n",
       "│ 3, 4   │ -3.6486 │   0.0029   │  \u001b[31mЗначимое различие\u001b[0m  │\n",
       "│ 3, 5   │ -3.7176 │   0.0034   │  \u001b[31mЗначимое различие\u001b[0m  │\n",
       "│ 4, 5   │ -1.1547 │   0.3125   │ \u001b[32mНезначимое различие\u001b[0m │\n",
       "└────────┴─────────┴────────────┴─────────────────────┘\n"
      ]
     },
     "metadata": {},
     "output_type": "display_data"
    }
   ],
   "source": [
    "# --- T-тест ---\n",
    "console.print(\"[bold]T-тест[/bold]\")\n",
    "ttest_table = Table(show_header=True, header_style=\"bold\")\n",
    "ttest_table.add_column(\"Группы\")\n",
    "ttest_table.add_column(\"Дельта\", justify=\"center\")\n",
    "ttest_table.add_column(\"P-значение\", justify=\"center\")\n",
    "ttest_table.add_column(\"Результат\", justify=\"center\")\n",
    "\n",
    "hb_p_values = {}\n",
    "for pair in pairs:\n",
    "  delta, p_value = st.ttest_ind(group_data[pair[0]], group_data[pair[1]], equal_var=True)\n",
    "\n",
    "  if (float(p_value) < 0.05):\n",
    "    hb_p_values[pair] = p_value\n",
    "    result_text = \"[red]Значимое различие[/red]\"\n",
    "  else:\n",
    "    result_text = \"[green]Незначимое различие[/green]\"\n",
    "\n",
    "  ttest_table.add_row(\n",
    "      f\"{pair[0]}, {pair[1]}\",\n",
    "      f\"{delta:.4f}\",\n",
    "      f\"{p_value:.4f}\",\n",
    "      result_text\n",
    "  )\n",
    "\n",
    "console.print(ttest_table)"
   ]
  },
  {
   "cell_type": "code",
   "execution_count": 10,
   "id": "49b68f64",
   "metadata": {},
   "outputs": [
    {
     "data": {
      "text/html": [
       "<pre style=\"white-space:pre;overflow-x:auto;line-height:normal;font-family:Menlo,'DejaVu Sans Mono',consolas,'Courier New',monospace\"><span style=\"font-weight: bold\">Поправка Бонферрони</span>\n",
       "</pre>\n"
      ],
      "text/plain": [
       "\u001b[1mПоправка Бонферрони\u001b[0m\n"
      ]
     },
     "metadata": {},
     "output_type": "display_data"
    },
    {
     "data": {
      "text/html": [
       "<pre style=\"white-space:pre;overflow-x:auto;line-height:normal;font-family:Menlo,'DejaVu Sans Mono',consolas,'Courier New',monospace\">┏━━━━━━━━┳━━━━━━━━━━━━┳━━━━━━━━━━━━━━━━━━━┓\n",
       "┃<span style=\"font-weight: bold\"> Группы </span>┃<span style=\"font-weight: bold\"> P-значение </span>┃<span style=\"font-weight: bold\">     Результат     </span>┃\n",
       "┡━━━━━━━━╇━━━━━━━━━━━━╇━━━━━━━━━━━━━━━━━━━┩\n",
       "│ 2, 4   │   0.0001   │ <span style=\"color: #800000; text-decoration-color: #800000\">Значимое различие</span> │\n",
       "│ 2, 3   │   0.0007   │ <span style=\"color: #800000; text-decoration-color: #800000\">Значимое различие</span> │\n",
       "│ 2, 5   │   0.0009   │ <span style=\"color: #800000; text-decoration-color: #800000\">Значимое различие</span> │\n",
       "│ 1, 3   │   0.0010   │ <span style=\"color: #800000; text-decoration-color: #800000\">Значимое различие</span> │\n",
       "│ 1, 4   │   0.0023   │ <span style=\"color: #800000; text-decoration-color: #800000\">Значимое различие</span> │\n",
       "│ 3, 4   │   0.0029   │ <span style=\"color: #800000; text-decoration-color: #800000\">Значимое различие</span> │\n",
       "│ 3, 5   │   0.0034   │ <span style=\"color: #800000; text-decoration-color: #800000\">Значимое различие</span> │\n",
       "│ 1, 5   │   0.0385   │ <span style=\"color: #800000; text-decoration-color: #800000\">Значимое различие</span> │\n",
       "└────────┴────────────┴───────────────────┘\n",
       "</pre>\n"
      ],
      "text/plain": [
       "┏━━━━━━━━┳━━━━━━━━━━━━┳━━━━━━━━━━━━━━━━━━━┓\n",
       "┃\u001b[1m \u001b[0m\u001b[1mГруппы\u001b[0m\u001b[1m \u001b[0m┃\u001b[1m \u001b[0m\u001b[1mP-значение\u001b[0m\u001b[1m \u001b[0m┃\u001b[1m \u001b[0m\u001b[1m    Результат    \u001b[0m\u001b[1m \u001b[0m┃\n",
       "┡━━━━━━━━╇━━━━━━━━━━━━╇━━━━━━━━━━━━━━━━━━━┩\n",
       "│ 2, 4   │   0.0001   │ \u001b[31mЗначимое различие\u001b[0m │\n",
       "│ 2, 3   │   0.0007   │ \u001b[31mЗначимое различие\u001b[0m │\n",
       "│ 2, 5   │   0.0009   │ \u001b[31mЗначимое различие\u001b[0m │\n",
       "│ 1, 3   │   0.0010   │ \u001b[31mЗначимое различие\u001b[0m │\n",
       "│ 1, 4   │   0.0023   │ \u001b[31mЗначимое различие\u001b[0m │\n",
       "│ 3, 4   │   0.0029   │ \u001b[31mЗначимое различие\u001b[0m │\n",
       "│ 3, 5   │   0.0034   │ \u001b[31mЗначимое различие\u001b[0m │\n",
       "│ 1, 5   │   0.0385   │ \u001b[31mЗначимое различие\u001b[0m │\n",
       "└────────┴────────────┴───────────────────┘\n"
      ]
     },
     "metadata": {},
     "output_type": "display_data"
    }
   ],
   "source": [
    "# --- Поправка Бонферрони ---\n",
    "console.print(\"[bold]Поправка Бонферрони[/bold]\")\n",
    "bonferroni_table = Table(show_header=True, header_style=\"bold\")\n",
    "bonferroni_table.add_column(\"Группы\")\n",
    "bonferroni_table.add_column(\"P-значение\", justify=\"center\")\n",
    "bonferroni_table.add_column(\"Результат\", justify=\"center\")\n",
    "\n",
    "\n",
    "hb_p_values = dict(sorted(hb_p_values.items(), key=lambda item: item[1]))\n",
    "\n",
    "m = len(hb_p_values)\n",
    "for pair, p_value in hb_p_values.items():\n",
    "  if (p_value < 0.05 / m):\n",
    "    m -= 1\n",
    "    result_text = \"[red]Значимое различие[/red]\"\n",
    "  else:\n",
    "    result_text = \"[green]Незначимое различие[/green]\"\n",
    "\n",
    "  bonferroni_table.add_row(\n",
    "      f\"{pair[0]}, {pair[1]}\",\n",
    "      f\"{p_value:.4f}\",\n",
    "      result_text\n",
    "  )\n",
    "\n",
    "console.print(bonferroni_table)"
   ]
  }
 ],
 "metadata": {
  "kernelspec": {
   "display_name": ".venv",
   "language": "python",
   "name": "python3"
  },
  "language_info": {
   "codemirror_mode": {
    "name": "ipython",
    "version": 3
   },
   "file_extension": ".py",
   "mimetype": "text/x-python",
   "name": "python",
   "nbconvert_exporter": "python",
   "pygments_lexer": "ipython3",
   "version": "3.12.8"
  }
 },
 "nbformat": 4,
 "nbformat_minor": 5
}
