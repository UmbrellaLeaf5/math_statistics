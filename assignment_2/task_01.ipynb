{
 "cells": [
  {
   "cell_type": "markdown",
   "metadata": {},
   "source": [
    "# $ \\text{Т.1} $\n",
    "\n",
    "$ \\text{Случайный вектор } (\\xi_1, \\xi_2, \\xi_3, \\xi_4, \\xi_5, \\eta) \\\\ \\text{ имеет компоненты, распределенные по следующему закону:} \\\\ \\xi_k \\sim R(-1,1)$, $\\eta \\sim N(2 + 3x_1 - 2x_2 + x_3 + x_4 - x_5, 1.5^2) \\text{,} \\\\ \\text{ где } x_k \\text{ это значения, которые принимает случайная величина } \\xi_k \\\\ \\text{ Сгенерировать выборку объема} n = 50 $"
   ]
  },
  {
   "cell_type": "code",
   "execution_count": 715,
   "metadata": {},
   "outputs": [],
   "source": [
    "from rich.console import Console\n",
    "from rich.table import Table\n",
    "from rich.panel import Panel\n",
    "from rich.text import Text\n",
    "\n",
    "import math\n",
    "import matplotlib.pyplot as polt\n",
    "from matplotlib.ticker import AutoMinorLocator\n",
    "import numpy as np\n",
    "import pandas as pd\n",
    "import scipy.stats as st\n",
    "import statsmodels.api as sm\n",
    "\n",
    "from seaborn import boxplot as boxpolt\n",
    "\n",
    "console = Console()\n",
    "table = Table()\n",
    "\n",
    "np.random.seed(34)"
   ]
  },
  {
   "cell_type": "code",
   "execution_count": 716,
   "metadata": {},
   "outputs": [],
   "source": [
    "# Размер выборки\n",
    "N = 50\n",
    "\n",
    "# Доверительная информация\n",
    "beta_sign = 0.95\n",
    "alpha_sign = 1 - beta_sign\n",
    "\n",
    "# Кол-во кси в случайном векторе\n",
    "ksi_amount = 5\n",
    "\n",
    "# Кол-во базисных функций\n",
    "P = ksi_amount + 1\n",
    "\n",
    "# Массив выборки\n",
    "sample = []\n",
    "\n",
    "# Генерация выборки:\n",
    "for i in range(N):\n",
    "  x_1, x_2, x_3, x_4, x_5 = st.uniform(loc=-1, scale=1 - (-1)).rvs(ksi_amount)\n",
    "\n",
    "  eta = st.norm(loc=2 + 3 * x_1 - 2 * x_2 + x_3 + x_4 - x_5, scale=1.5).rvs(1)\n",
    "\n",
    "  sample.append([x_1, x_2, x_3, x_4, x_5, *eta])\n",
    "\n",
    "sample = np.array(sample)\n",
    "\n",
    "# Словарь выборки\n",
    "sample_df = pd.DataFrame({\n",
    "    \"ξ_1\": sample[:, 0],\n",
    "    \"ξ_2\": sample[:, 1],\n",
    "    \"ξ_3\": sample[:, 2],\n",
    "    \"ξ_4\": sample[:, 3],\n",
    "    \"ξ_5\": sample[:, 4],\n",
    "    \"η\": sample[:, 5]\n",
    "})"
   ]
  },
  {
   "cell_type": "code",
   "execution_count": 717,
   "metadata": {},
   "outputs": [
    {
     "data": {
      "text/html": [
       "<pre style=\"white-space:pre;overflow-x:auto;line-height:normal;font-family:Menlo,'DejaVu Sans Mono',consolas,'Courier New',monospace\"><span style=\"font-style: italic\">                                Выборка                                 </span>\n",
       "┏━━━━┳━━━━━━━━━━┳━━━━━━━━━━┳━━━━━━━━━━┳━━━━━━━━━━┳━━━━━━━━━━┳━━━━━━━━━━┓\n",
       "┃<span style=\"font-weight: bold\"> N  </span>┃<span style=\"font-weight: bold\">   ξ_1    </span>┃<span style=\"font-weight: bold\">   ξ_2    </span>┃<span style=\"font-weight: bold\">   ξ_3    </span>┃<span style=\"font-weight: bold\">   ξ_4    </span>┃<span style=\"font-weight: bold\">   ξ_5    </span>┃<span style=\"font-weight: bold\">    η     </span>┃\n",
       "┡━━━━╇━━━━━━━━━━╇━━━━━━━━━━╇━━━━━━━━━━╇━━━━━━━━━━╇━━━━━━━━━━╇━━━━━━━━━━┩\n",
       "│ 1  │ -0.92288 │ 0.56020  │ -0.81459 │ 0.26579  │ -0.97222 │ -1.64002 │\n",
       "│ 2  │ -0.49383 │ -0.62007 │ -0.17035 │ -0.97316 │ 0.29695  │ 1.35418  │\n",
       "│ 3  │ 0.73874  │ 0.21807  │ 0.61599  │ 0.65302  │ -0.45663 │ 4.73922  │\n",
       "│ 4  │ -0.72338 │ 0.42944  │ -0.05493 │ 0.11318  │ -0.22885 │ 0.44407  │\n",
       "│ 5  │ 0.88229  │ -0.83762 │ 0.83453  │ -0.68613 │ -0.11171 │ 5.73974  │\n",
       "│ 6  │ 0.02960  │ 0.78580  │ 0.84736  │ 0.67196  │ -0.00069 │ 1.29161  │\n",
       "│ 7  │ 0.64193  │ 0.86878  │ 0.58962  │ -0.07683 │ -0.29462 │ 2.29408  │\n",
       "│ 8  │ 0.39826  │ 0.29541  │ -0.55293 │ 0.60370  │ 0.02422  │ 1.52573  │\n",
       "│ 9  │ -0.84268 │ -0.93168 │ 0.13230  │ -0.70065 │ -0.51753 │ 1.40619  │\n",
       "│ 10 │ 0.70886  │ -0.60049 │ 0.61410  │ -0.84911 │ 0.27207  │ 4.45645  │\n",
       "│ 11 │ 0.66169  │ -0.41696 │ -0.04861 │ -0.65195 │ 0.90594  │ 4.10519  │\n",
       "│ 12 │ 0.87160  │ 0.25985  │ -0.33723 │ -0.05856 │ 0.60426  │ 3.69310  │\n",
       "│ 13 │ 0.88561  │ -0.67235 │ 0.23736  │ -0.95335 │ -0.84253 │ 6.49779  │\n",
       "│ 14 │ -0.55227 │ -0.00227 │ 0.94271  │ -0.62479 │ 0.56548  │ 1.40564  │\n",
       "│ 15 │ 0.22721  │ 0.17233  │ -0.08004 │ -0.44514 │ 0.64296  │ 0.91837  │\n",
       "│ 16 │ 0.80616  │ 0.28112  │ -0.86114 │ -0.00063 │ 0.53017  │ 3.48586  │\n",
       "│ 17 │ 0.61353  │ -0.03752 │ 0.76795  │ 0.99106  │ 0.87144  │ 5.67552  │\n",
       "│ 18 │ -0.34176 │ 0.30443  │ -0.10234 │ 0.34195  │ 0.13411  │ 0.30416  │\n",
       "│ 19 │ -0.94138 │ 0.91615  │ -0.85818 │ -0.35572 │ -0.99240 │ -5.04112 │\n",
       "│ 20 │ -0.47968 │ -0.99359 │ -0.73254 │ -0.64102 │ -0.76431 │ 1.71341  │\n",
       "│ 21 │ 0.83427  │ 0.46434  │ -0.55434 │ -0.97320 │ -0.68205 │ 3.42410  │\n",
       "│ 22 │ -0.45588 │ 0.62514  │ 0.99073  │ -0.63631 │ -0.13215 │ -0.20819 │\n",
       "│ 23 │ 0.25286  │ 0.32708  │ 0.61393  │ -0.14848 │ -0.93635 │ 6.66970  │\n",
       "│ 24 │ -0.48840 │ -0.98765 │ -0.88316 │ -0.68962 │ 0.83549  │ -0.33178 │\n",
       "│ 25 │ 0.12615  │ -0.81725 │ 0.92599  │ -0.58683 │ 0.02435  │ 4.65179  │\n",
       "│ 26 │ -0.55712 │ 0.97510  │ -0.21507 │ -0.96384 │ -0.29519 │ -4.49163 │\n",
       "│ 27 │ 0.44581  │ -0.52557 │ -0.75195 │ 0.17993  │ -0.00393 │ 2.66217  │\n",
       "│ 28 │ -0.08101 │ 0.50417  │ -0.78889 │ -0.89105 │ 0.73315  │ -4.24934 │\n",
       "│ 29 │ -0.89219 │ 0.64245  │ 0.40536  │ 0.60833  │ -0.74250 │ 1.96519  │\n",
       "│ 30 │ -0.04212 │ -0.84295 │ -0.09671 │ 0.85943  │ 0.52492  │ 2.22444  │\n",
       "│ 31 │ 0.56953  │ 0.93048  │ 0.59396  │ -0.32944 │ 0.04833  │ 1.43264  │\n",
       "│ 32 │ 0.85769  │ -0.39116 │ 0.97616  │ -0.98855 │ 0.28370  │ 3.76027  │\n",
       "│ 33 │ 0.16699  │ 0.27398  │ -0.98104 │ 0.10677  │ 0.04048  │ -0.98018 │\n",
       "│ 34 │ 0.64261  │ -0.10097 │ 0.90604  │ 0.21264  │ 0.41702  │ 7.40123  │\n",
       "│ 35 │ 0.76323  │ -0.81588 │ 0.77287  │ -0.27803 │ 0.79001  │ 5.40038  │\n",
       "│ 36 │ 0.08665  │ 0.97407  │ 0.92533  │ 0.25555  │ 0.81485  │ 2.29327  │\n",
       "│ 37 │ 0.05739  │ 0.23172  │ 0.03804  │ -0.07746 │ 0.07088  │ 1.87575  │\n",
       "│ 38 │ 0.43806  │ 0.23947  │ 0.93154  │ -0.93156 │ 0.73917  │ 0.90205  │\n",
       "│ 39 │ -0.07059 │ -0.69515 │ -0.64623 │ -0.02538 │ 0.41699  │ 0.41458  │\n",
       "│ 40 │ -0.75430 │ -0.45707 │ -0.30852 │ -0.09555 │ -0.61887 │ 1.19776  │\n",
       "│ 41 │ -0.36182 │ -0.56397 │ 0.87086  │ -0.23963 │ 0.41749  │ 1.65723  │\n",
       "│ 42 │ 0.22685  │ -0.08906 │ -0.40285 │ 0.44890  │ -0.15765 │ 1.67821  │\n",
       "│ 43 │ 0.59560  │ 0.35619  │ 0.38143  │ 0.49673  │ 0.47044  │ 2.84520  │\n",
       "│ 44 │ 0.90027  │ 0.98384  │ -0.64260 │ -0.29940 │ 0.67961  │ 1.26729  │\n",
       "│ 45 │ 0.49165  │ -0.53228 │ 0.97171  │ -0.47394 │ 0.20006  │ 3.66764  │\n",
       "│ 46 │ 0.40658  │ -0.25695 │ 0.75813  │ 0.32479  │ 0.95951  │ 3.90844  │\n",
       "│ 47 │ -0.22322 │ 0.73540  │ -0.54312 │ 0.78463  │ -0.03104 │ 2.20352  │\n",
       "│ 48 │ 0.71860  │ 0.93182  │ -0.64220 │ 0.10666  │ -0.73541 │ 2.36569  │\n",
       "│ 49 │ -0.01176 │ -0.93237 │ -0.16008 │ -0.00542 │ -0.42753 │ 5.98855  │\n",
       "│ 50 │ 0.62862  │ 0.21283  │ -0.23047 │ -0.57733 │ -0.91746 │ 4.73851  │\n",
       "└────┴──────────┴──────────┴──────────┴──────────┴──────────┴──────────┘\n",
       "</pre>\n"
      ],
      "text/plain": [
       "\u001b[3m                                Выборка                                 \u001b[0m\n",
       "┏━━━━┳━━━━━━━━━━┳━━━━━━━━━━┳━━━━━━━━━━┳━━━━━━━━━━┳━━━━━━━━━━┳━━━━━━━━━━┓\n",
       "┃\u001b[1m \u001b[0m\u001b[1mN \u001b[0m\u001b[1m \u001b[0m┃\u001b[1m \u001b[0m\u001b[1m  ξ_1   \u001b[0m\u001b[1m \u001b[0m┃\u001b[1m \u001b[0m\u001b[1m  ξ_2   \u001b[0m\u001b[1m \u001b[0m┃\u001b[1m \u001b[0m\u001b[1m  ξ_3   \u001b[0m\u001b[1m \u001b[0m┃\u001b[1m \u001b[0m\u001b[1m  ξ_4   \u001b[0m\u001b[1m \u001b[0m┃\u001b[1m \u001b[0m\u001b[1m  ξ_5   \u001b[0m\u001b[1m \u001b[0m┃\u001b[1m \u001b[0m\u001b[1m   η    \u001b[0m\u001b[1m \u001b[0m┃\n",
       "┡━━━━╇━━━━━━━━━━╇━━━━━━━━━━╇━━━━━━━━━━╇━━━━━━━━━━╇━━━━━━━━━━╇━━━━━━━━━━┩\n",
       "│ 1  │ -0.92288 │ 0.56020  │ -0.81459 │ 0.26579  │ -0.97222 │ -1.64002 │\n",
       "│ 2  │ -0.49383 │ -0.62007 │ -0.17035 │ -0.97316 │ 0.29695  │ 1.35418  │\n",
       "│ 3  │ 0.73874  │ 0.21807  │ 0.61599  │ 0.65302  │ -0.45663 │ 4.73922  │\n",
       "│ 4  │ -0.72338 │ 0.42944  │ -0.05493 │ 0.11318  │ -0.22885 │ 0.44407  │\n",
       "│ 5  │ 0.88229  │ -0.83762 │ 0.83453  │ -0.68613 │ -0.11171 │ 5.73974  │\n",
       "│ 6  │ 0.02960  │ 0.78580  │ 0.84736  │ 0.67196  │ -0.00069 │ 1.29161  │\n",
       "│ 7  │ 0.64193  │ 0.86878  │ 0.58962  │ -0.07683 │ -0.29462 │ 2.29408  │\n",
       "│ 8  │ 0.39826  │ 0.29541  │ -0.55293 │ 0.60370  │ 0.02422  │ 1.52573  │\n",
       "│ 9  │ -0.84268 │ -0.93168 │ 0.13230  │ -0.70065 │ -0.51753 │ 1.40619  │\n",
       "│ 10 │ 0.70886  │ -0.60049 │ 0.61410  │ -0.84911 │ 0.27207  │ 4.45645  │\n",
       "│ 11 │ 0.66169  │ -0.41696 │ -0.04861 │ -0.65195 │ 0.90594  │ 4.10519  │\n",
       "│ 12 │ 0.87160  │ 0.25985  │ -0.33723 │ -0.05856 │ 0.60426  │ 3.69310  │\n",
       "│ 13 │ 0.88561  │ -0.67235 │ 0.23736  │ -0.95335 │ -0.84253 │ 6.49779  │\n",
       "│ 14 │ -0.55227 │ -0.00227 │ 0.94271  │ -0.62479 │ 0.56548  │ 1.40564  │\n",
       "│ 15 │ 0.22721  │ 0.17233  │ -0.08004 │ -0.44514 │ 0.64296  │ 0.91837  │\n",
       "│ 16 │ 0.80616  │ 0.28112  │ -0.86114 │ -0.00063 │ 0.53017  │ 3.48586  │\n",
       "│ 17 │ 0.61353  │ -0.03752 │ 0.76795  │ 0.99106  │ 0.87144  │ 5.67552  │\n",
       "│ 18 │ -0.34176 │ 0.30443  │ -0.10234 │ 0.34195  │ 0.13411  │ 0.30416  │\n",
       "│ 19 │ -0.94138 │ 0.91615  │ -0.85818 │ -0.35572 │ -0.99240 │ -5.04112 │\n",
       "│ 20 │ -0.47968 │ -0.99359 │ -0.73254 │ -0.64102 │ -0.76431 │ 1.71341  │\n",
       "│ 21 │ 0.83427  │ 0.46434  │ -0.55434 │ -0.97320 │ -0.68205 │ 3.42410  │\n",
       "│ 22 │ -0.45588 │ 0.62514  │ 0.99073  │ -0.63631 │ -0.13215 │ -0.20819 │\n",
       "│ 23 │ 0.25286  │ 0.32708  │ 0.61393  │ -0.14848 │ -0.93635 │ 6.66970  │\n",
       "│ 24 │ -0.48840 │ -0.98765 │ -0.88316 │ -0.68962 │ 0.83549  │ -0.33178 │\n",
       "│ 25 │ 0.12615  │ -0.81725 │ 0.92599  │ -0.58683 │ 0.02435  │ 4.65179  │\n",
       "│ 26 │ -0.55712 │ 0.97510  │ -0.21507 │ -0.96384 │ -0.29519 │ -4.49163 │\n",
       "│ 27 │ 0.44581  │ -0.52557 │ -0.75195 │ 0.17993  │ -0.00393 │ 2.66217  │\n",
       "│ 28 │ -0.08101 │ 0.50417  │ -0.78889 │ -0.89105 │ 0.73315  │ -4.24934 │\n",
       "│ 29 │ -0.89219 │ 0.64245  │ 0.40536  │ 0.60833  │ -0.74250 │ 1.96519  │\n",
       "│ 30 │ -0.04212 │ -0.84295 │ -0.09671 │ 0.85943  │ 0.52492  │ 2.22444  │\n",
       "│ 31 │ 0.56953  │ 0.93048  │ 0.59396  │ -0.32944 │ 0.04833  │ 1.43264  │\n",
       "│ 32 │ 0.85769  │ -0.39116 │ 0.97616  │ -0.98855 │ 0.28370  │ 3.76027  │\n",
       "│ 33 │ 0.16699  │ 0.27398  │ -0.98104 │ 0.10677  │ 0.04048  │ -0.98018 │\n",
       "│ 34 │ 0.64261  │ -0.10097 │ 0.90604  │ 0.21264  │ 0.41702  │ 7.40123  │\n",
       "│ 35 │ 0.76323  │ -0.81588 │ 0.77287  │ -0.27803 │ 0.79001  │ 5.40038  │\n",
       "│ 36 │ 0.08665  │ 0.97407  │ 0.92533  │ 0.25555  │ 0.81485  │ 2.29327  │\n",
       "│ 37 │ 0.05739  │ 0.23172  │ 0.03804  │ -0.07746 │ 0.07088  │ 1.87575  │\n",
       "│ 38 │ 0.43806  │ 0.23947  │ 0.93154  │ -0.93156 │ 0.73917  │ 0.90205  │\n",
       "│ 39 │ -0.07059 │ -0.69515 │ -0.64623 │ -0.02538 │ 0.41699  │ 0.41458  │\n",
       "│ 40 │ -0.75430 │ -0.45707 │ -0.30852 │ -0.09555 │ -0.61887 │ 1.19776  │\n",
       "│ 41 │ -0.36182 │ -0.56397 │ 0.87086  │ -0.23963 │ 0.41749  │ 1.65723  │\n",
       "│ 42 │ 0.22685  │ -0.08906 │ -0.40285 │ 0.44890  │ -0.15765 │ 1.67821  │\n",
       "│ 43 │ 0.59560  │ 0.35619  │ 0.38143  │ 0.49673  │ 0.47044  │ 2.84520  │\n",
       "│ 44 │ 0.90027  │ 0.98384  │ -0.64260 │ -0.29940 │ 0.67961  │ 1.26729  │\n",
       "│ 45 │ 0.49165  │ -0.53228 │ 0.97171  │ -0.47394 │ 0.20006  │ 3.66764  │\n",
       "│ 46 │ 0.40658  │ -0.25695 │ 0.75813  │ 0.32479  │ 0.95951  │ 3.90844  │\n",
       "│ 47 │ -0.22322 │ 0.73540  │ -0.54312 │ 0.78463  │ -0.03104 │ 2.20352  │\n",
       "│ 48 │ 0.71860  │ 0.93182  │ -0.64220 │ 0.10666  │ -0.73541 │ 2.36569  │\n",
       "│ 49 │ -0.01176 │ -0.93237 │ -0.16008 │ -0.00542 │ -0.42753 │ 5.98855  │\n",
       "│ 50 │ 0.62862  │ 0.21283  │ -0.23047 │ -0.57733 │ -0.91746 │ 4.73851  │\n",
       "└────┴──────────┴──────────┴──────────┴──────────┴──────────┴──────────┘\n"
      ]
     },
     "metadata": {},
     "output_type": "display_data"
    }
   ],
   "source": [
    "table = Table(title=\"Выборка\")\n",
    "\n",
    "table.add_column(\"N\", justify=\"center\")\n",
    "\n",
    "labels = [\"ξ_1\", \"ξ_2\", \"ξ_3\", \"ξ_4\", \"ξ_5\", \"η\"]\n",
    "\n",
    "for label in labels:\n",
    "  table.add_column(label, justify=\"center\")\n",
    "\n",
    "for i in range(N):\n",
    "  table.add_row(f\"{i + 1}\",\n",
    "                *[f\"{sample_df[label][i]:.5f}\" for label in labels])\n",
    "\n",
    "console.print(table)"
   ]
  },
  {
   "cell_type": "markdown",
   "metadata": {},
   "source": [
    "## $ \\text{a) Проверить переменные } \\xi_k \\\\ \\text{ на мультиколлинеарность.} $"
   ]
  },
  {
   "cell_type": "markdown",
   "metadata": {},
   "source": [
    "$$ \\xi_1 = b_1 + b_2\\xi_2 + ... + b_k\\xi_k + \\varepsilon $$\n",
    "\n",
    "$$ \\text{Находим } R^2 $$\n",
    "\n",
    "$$\n",
    "\n",
    "\\begin{cases}\n",
    "> 0.7 - \\text{можно выбросить } \\xi_1 \\\\\n",
    "< 0.7 - \\text{нельзя избавляться} \n",
    "\\end{cases}\n",
    "\n",
    "$$\n",
    "\n",
    "$$ \\xi_2 = b_1\\xi_1 + b_2 + ... + b_k\\xi_k + \\varepsilon \\rightarrow R^2 \\text{ ? } 0.7 $$\n",
    "$$ \\xi_3 = ... \\rightarrow R^2 \\text{ ? } 0.7 $$\n",
    "\n",
    "$$ \\text{ ... } $$"
   ]
  },
  {
   "cell_type": "code",
   "execution_count": 718,
   "metadata": {},
   "outputs": [
    {
     "data": {
      "text/html": [
       "<pre style=\"white-space:pre;overflow-x:auto;line-height:normal;font-family:Menlo,'DejaVu Sans Mono',consolas,'Courier New',monospace\"><span style=\"font-style: italic\">                Коэффициент детерминации                </span>\n",
       "┏━━━━┳━━━━━━━━━┳━━━━━━━━━┳━━━━━━━━━┳━━━━━━━━━┳━━━━━━━━━┓\n",
       "┃<span style=\"font-weight: bold\"> R² </span>┃<span style=\"font-weight: bold\">   ξ_1   </span>┃<span style=\"font-weight: bold\">   ξ_2   </span>┃<span style=\"font-weight: bold\">   ξ_3   </span>┃<span style=\"font-weight: bold\">   ξ_4   </span>┃<span style=\"font-weight: bold\">   ξ_5   </span>┃\n",
       "┡━━━━╇━━━━━━━━━╇━━━━━━━━━╇━━━━━━━━━╇━━━━━━━━━╇━━━━━━━━━┩\n",
       "│ =  │ 0.10917 │ 0.09320 │ 0.08352 │ 0.07101 │ 0.13730 │\n",
       "└────┴─────────┴─────────┴─────────┴─────────┴─────────┘\n",
       "</pre>\n"
      ],
      "text/plain": [
       "\u001b[3m                Коэффициент детерминации                \u001b[0m\n",
       "┏━━━━┳━━━━━━━━━┳━━━━━━━━━┳━━━━━━━━━┳━━━━━━━━━┳━━━━━━━━━┓\n",
       "┃\u001b[1m \u001b[0m\u001b[1mR²\u001b[0m\u001b[1m \u001b[0m┃\u001b[1m \u001b[0m\u001b[1m  ξ_1  \u001b[0m\u001b[1m \u001b[0m┃\u001b[1m \u001b[0m\u001b[1m  ξ_2  \u001b[0m\u001b[1m \u001b[0m┃\u001b[1m \u001b[0m\u001b[1m  ξ_3  \u001b[0m\u001b[1m \u001b[0m┃\u001b[1m \u001b[0m\u001b[1m  ξ_4  \u001b[0m\u001b[1m \u001b[0m┃\u001b[1m \u001b[0m\u001b[1m  ξ_5  \u001b[0m\u001b[1m \u001b[0m┃\n",
       "┡━━━━╇━━━━━━━━━╇━━━━━━━━━╇━━━━━━━━━╇━━━━━━━━━╇━━━━━━━━━┩\n",
       "│ =  │ 0.10917 │ 0.09320 │ 0.08352 │ 0.07101 │ 0.13730 │\n",
       "└────┴─────────┴─────────┴─────────┴─────────┴─────────┘\n"
      ]
     },
     "metadata": {},
     "output_type": "display_data"
    }
   ],
   "source": [
    "table = Table(title=\"Коэффициент детерминации\")\n",
    "\n",
    "table.add_column(\"R²\", justify=\"center\")\n",
    "\n",
    "labels = [\"ξ_1\", \"ξ_2\", \"ξ_3\", \"ξ_4\", \"ξ_5\"]\n",
    "X = sample_df[labels]\n",
    "\n",
    "row = []\n",
    "\n",
    "for label in labels:\n",
    "  table.add_column(label, justify=\"center\")\n",
    "\n",
    "  model = sm.OLS(X[label], sm.add_constant(X.drop(label, axis=1))).fit()\n",
    "  row.append(model.rsquared)\n",
    "\n",
    "table.add_row(\"=\", *[f\"{row[i]:.5f}\" for i in range(ksi_amount)])\n",
    "\n",
    "console.print(table)"
   ]
  },
  {
   "cell_type": "markdown",
   "metadata": {},
   "source": [
    "## $ \\text{b) Определить уравнение линейной регрессии} \\\\ \\eta = \\beta_0 + \\sum_{k=1}^{5} \\beta_k \\xi_k \\\\ \\text{ и проверить значимость коэффициентов.} $"
   ]
  },
  {
   "cell_type": "code",
   "execution_count": 719,
   "metadata": {},
   "outputs": [],
   "source": [
    "PSI = np.hstack([np.ones(shape=(N, 1)), sample[:, :-1]])  # матрица наблюдений\n",
    "\n",
    "Y = sample[:, ksi_amount]\n",
    "F = PSI.T @ PSI\n",
    "b = np.linalg.inv(F) @ PSI.T @ Y"
   ]
  },
  {
   "cell_type": "code",
   "execution_count": 720,
   "metadata": {},
   "outputs": [],
   "source": [
    "model = sm.OLS(sample_df['η'], PSI).fit()"
   ]
  },
  {
   "cell_type": "code",
   "execution_count": 721,
   "metadata": {},
   "outputs": [
    {
     "data": {
      "text/html": [
       "<pre style=\"white-space:pre;overflow-x:auto;line-height:normal;font-family:Menlo,'DejaVu Sans Mono',consolas,'Courier New',monospace\">╭────────────────────────────── Уравнение линейной регрессии ───────────────────────────────╮                      \n",
       "│ <span style=\"font-weight: bold\">y = 1.9949 + 2.9878 • x_1 - 2.0369 • x_2 + 1.4956 • x_3 + 1.3781 • x_4 - 1.3907 • x_5 + e</span> │                      \n",
       "╰───────────────────────────────────────────────────────────────────────────────────────────╯                      \n",
       "</pre>\n"
      ],
      "text/plain": [
       "╭────────────────────────────── Уравнение линейной регрессии ───────────────────────────────╮                      \n",
       "│ \u001b[1my = 1.9949 + 2.9878 • x_1 - 2.0369 • x_2 + 1.4956 • x_3 + 1.3781 • x_4 - 1.3907 • x_5 + e\u001b[0m │                      \n",
       "╰───────────────────────────────────────────────────────────────────────────────────────────╯                      \n"
      ]
     },
     "metadata": {},
     "output_type": "display_data"
    }
   ],
   "source": [
    "console.print(Panel(Text(f\"y = {b[0]:.5}{\"\".join([f\"{\" + \" if b[i + 1] > 0 else \" - \"}\"\n",
    "                         f\"{np.abs(b[i + 1]):.5} • x_{i + 1}\" for i in range(ksi_amount)])} + e\",\n",
    "                         style=\"bold\"),\n",
    "                    title=\"Уравнение линейной регрессии\"),\n",
    "              justify=\"left\")"
   ]
  },
  {
   "cell_type": "code",
   "execution_count": 722,
   "metadata": {},
   "outputs": [],
   "source": [
    "e = Y - PSI @ b\n",
    "RSS = e.T @ e"
   ]
  },
  {
   "cell_type": "code",
   "execution_count": 723,
   "metadata": {},
   "outputs": [
    {
     "data": {
      "text/html": [
       "<pre style=\"white-space:pre;overflow-x:auto;line-height:normal;font-family:Menlo,'DejaVu Sans Mono',consolas,'Courier New',monospace\">╭─ Residual Sum of Squares ─╮                                                                                      \n",
       "│ <span style=\"font-weight: bold\">71.20289                 </span> │                                                                                      \n",
       "╰───────────────────────────╯                                                                                      \n",
       "</pre>\n"
      ],
      "text/plain": [
       "╭─ Residual Sum of Squares ─╮                                                                                      \n",
       "│ \u001b[1m71.20289                 \u001b[0m │                                                                                      \n",
       "╰───────────────────────────╯                                                                                      \n"
      ]
     },
     "metadata": {},
     "output_type": "display_data"
    }
   ],
   "source": [
    "console.print(Panel(Text(f\"{RSS:.5f}\",\n",
    "                         style=\"bold\"),\n",
    "                    title=\"Residual Sum of Squares\"),\n",
    "              justify=\"left\")"
   ]
  },
  {
   "cell_type": "code",
   "execution_count": 724,
   "metadata": {},
   "outputs": [],
   "source": [
    "deltas = []\n",
    "p_values = []\n",
    "\n",
    "for i in range(P):\n",
    "  deltas.append(b[i] / np.sqrt(RSS * np.linalg.inv(F)[i, i]) * np.sqrt(N - P))\n",
    "  p_values.append(2 * st.t.cdf(-abs(deltas[-1]), df=(N - P)))"
   ]
  },
  {
   "cell_type": "code",
   "execution_count": 725,
   "metadata": {},
   "outputs": [
    {
     "data": {
      "text/html": [
       "<pre style=\"white-space:pre;overflow-x:auto;line-height:normal;font-family:Menlo,'DejaVu Sans Mono',consolas,'Courier New',monospace\"><span style=\"font-style: italic\">                                      Значимость коэффициентов                                       </span>\n",
       "┏━━━━━━━━━┳━━━━━━━━━━━━━━┳━━━━━━━━━━━━━━┳━━━━━━━━━━━━━━┳━━━━━━━━━━━━━━┳━━━━━━━━━━━━━━┳━━━━━━━━━━━━━━┓\n",
       "┃<span style=\"font-weight: bold\">         </span>┃<span style=\"font-weight: bold\">     β_0      </span>┃<span style=\"font-weight: bold\">     β_1      </span>┃<span style=\"font-weight: bold\">     β_2      </span>┃<span style=\"font-weight: bold\">     β_3      </span>┃<span style=\"font-weight: bold\">     β_4      </span>┃<span style=\"font-weight: bold\">     β_5      </span>┃\n",
       "┡━━━━━━━━━╇━━━━━━━━━━━━━━╇━━━━━━━━━━━━━━╇━━━━━━━━━━━━━━╇━━━━━━━━━━━━━━╇━━━━━━━━━━━━━━╇━━━━━━━━━━━━━━┩\n",
       "│    Δ    │   10.23727   │   8.95820    │   -6.74720   │   5.19329    │   4.08300    │   -4.11770   │\n",
       "│ p-value │ 3.225324e-13 │ 1.774720e-11 │ 2.685954e-08 │ 5.079797e-06 │ 1.847006e-04 │ 1.657464e-04 │\n",
       "│ значим? │      Да      │      Да      │      Да      │      Да      │      Да      │      Да      │\n",
       "└─────────┴──────────────┴──────────────┴──────────────┴──────────────┴──────────────┴──────────────┘\n",
       "</pre>\n"
      ],
      "text/plain": [
       "\u001b[3m                                      Значимость коэффициентов                                       \u001b[0m\n",
       "┏━━━━━━━━━┳━━━━━━━━━━━━━━┳━━━━━━━━━━━━━━┳━━━━━━━━━━━━━━┳━━━━━━━━━━━━━━┳━━━━━━━━━━━━━━┳━━━━━━━━━━━━━━┓\n",
       "┃\u001b[1m \u001b[0m\u001b[1m       \u001b[0m\u001b[1m \u001b[0m┃\u001b[1m \u001b[0m\u001b[1m    β_0     \u001b[0m\u001b[1m \u001b[0m┃\u001b[1m \u001b[0m\u001b[1m    β_1     \u001b[0m\u001b[1m \u001b[0m┃\u001b[1m \u001b[0m\u001b[1m    β_2     \u001b[0m\u001b[1m \u001b[0m┃\u001b[1m \u001b[0m\u001b[1m    β_3     \u001b[0m\u001b[1m \u001b[0m┃\u001b[1m \u001b[0m\u001b[1m    β_4     \u001b[0m\u001b[1m \u001b[0m┃\u001b[1m \u001b[0m\u001b[1m    β_5     \u001b[0m\u001b[1m \u001b[0m┃\n",
       "┡━━━━━━━━━╇━━━━━━━━━━━━━━╇━━━━━━━━━━━━━━╇━━━━━━━━━━━━━━╇━━━━━━━━━━━━━━╇━━━━━━━━━━━━━━╇━━━━━━━━━━━━━━┩\n",
       "│    Δ    │   10.23727   │   8.95820    │   -6.74720   │   5.19329    │   4.08300    │   -4.11770   │\n",
       "│ p-value │ 3.225324e-13 │ 1.774720e-11 │ 2.685954e-08 │ 5.079797e-06 │ 1.847006e-04 │ 1.657464e-04 │\n",
       "│ значим? │      Да      │      Да      │      Да      │      Да      │      Да      │      Да      │\n",
       "└─────────┴──────────────┴──────────────┴──────────────┴──────────────┴──────────────┴──────────────┘\n"
      ]
     },
     "metadata": {},
     "output_type": "display_data"
    }
   ],
   "source": [
    "table = Table(title=\"Значимость коэффициентов\")\n",
    "\n",
    "table.add_column(\"\", justify=\"center\")\n",
    "\n",
    "labels = [\"β_0\", \"β_1\", \"β_2\", \"β_3\", \"β_4\", \"β_5\"]\n",
    "row_labels = [\"Δ\", \"p-value\", \"значим?\"]\n",
    "\n",
    "for label in labels:\n",
    "  table.add_column(label, justify=\"center\")\n",
    "\n",
    "table_dict = {\n",
    "  \"Δ\": [f\"{delta:.5f}\" for delta in deltas],\n",
    "  \"p-value\": [f\"{p_value:e}\" for p_value in p_values],\n",
    "  \"значим?\": [\"Нет\" if p_value > alpha_sign else \"Да\" for p_value in p_values]\n",
    "}\n",
    "\n",
    "for label in row_labels:\n",
    "  table.add_row(label,\n",
    "                *[f\"{table_dict[label][i]}\" for i in range(P)])\n",
    "\n",
    "console.print(table)"
   ]
  },
  {
   "cell_type": "markdown",
   "metadata": {},
   "source": [
    "## $ \\text{c) Определить коэффициент детерминации} \\\\ \\text{и проверить его значимость.} $"
   ]
  },
  {
   "cell_type": "markdown",
   "metadata": {},
   "source": [
    "! значимость коэфф. детерминации = значимость всей регрессии !"
   ]
  },
  {
   "cell_type": "code",
   "execution_count": 726,
   "metadata": {},
   "outputs": [],
   "source": [
    "TSS = np.sum((Y - Y.mean()) ** 2)\n",
    "R2 = 1 - RSS / TSS"
   ]
  },
  {
   "cell_type": "code",
   "execution_count": 727,
   "metadata": {},
   "outputs": [
    {
     "data": {
      "text/html": [
       "<pre style=\"white-space:pre;overflow-x:auto;line-height:normal;font-family:Menlo,'DejaVu Sans Mono',consolas,'Courier New',monospace\">╭─ Коэффициент детерминации ─╮                                                                                     \n",
       "│ <span style=\"font-weight: bold\">0.79751                   </span> │                                                                                     \n",
       "╰────────────────────────────╯                                                                                     \n",
       "</pre>\n"
      ],
      "text/plain": [
       "╭─ Коэффициент детерминации ─╮                                                                                     \n",
       "│ \u001b[1m0.79751                   \u001b[0m │                                                                                     \n",
       "╰────────────────────────────╯                                                                                     \n"
      ]
     },
     "metadata": {},
     "output_type": "display_data"
    }
   ],
   "source": [
    "console.print(Panel(Text(f\"{R2:.5f}\",\n",
    "                         style=\"bold\"),\n",
    "                    title=\"Коэффициент детерминации\"),\n",
    "              justify=\"left\")"
   ]
  },
  {
   "cell_type": "code",
   "execution_count": 728,
   "metadata": {},
   "outputs": [],
   "source": [
    "delta = ((TSS - RSS) / (P - 1)) / (RSS / (N - P))\n",
    "\n",
    "p_value = st.f.sf(delta, P - 1, N - P)"
   ]
  },
  {
   "cell_type": "code",
   "execution_count": 729,
   "metadata": {},
   "outputs": [
    {
     "data": {
      "text/html": [
       "<pre style=\"white-space:pre;overflow-x:auto;line-height:normal;font-family:Menlo,'DejaVu Sans Mono',consolas,'Courier New',monospace\"><span style=\"font-style: italic\">Значимость коэффициента детерминации </span>\n",
       "┏━━━━━━━━━━┳━━━━━━━━━━━━━━┳━━━━━━━━━┓\n",
       "┃<span style=\"font-weight: bold\">    Δ     </span>┃<span style=\"font-weight: bold\">   p-value    </span>┃<span style=\"font-weight: bold\"> значим? </span>┃\n",
       "┡━━━━━━━━━━╇━━━━━━━━━━━━━━╇━━━━━━━━━┩\n",
       "│ 34.65877 │ 3.362212e-14 │   Да    │\n",
       "└──────────┴──────────────┴─────────┘\n",
       "</pre>\n"
      ],
      "text/plain": [
       "\u001b[3mЗначимость коэффициента детерминации \u001b[0m\n",
       "┏━━━━━━━━━━┳━━━━━━━━━━━━━━┳━━━━━━━━━┓\n",
       "┃\u001b[1m \u001b[0m\u001b[1m   Δ    \u001b[0m\u001b[1m \u001b[0m┃\u001b[1m \u001b[0m\u001b[1m  p-value   \u001b[0m\u001b[1m \u001b[0m┃\u001b[1m \u001b[0m\u001b[1mзначим?\u001b[0m\u001b[1m \u001b[0m┃\n",
       "┡━━━━━━━━━━╇━━━━━━━━━━━━━━╇━━━━━━━━━┩\n",
       "│ 34.65877 │ 3.362212e-14 │   Да    │\n",
       "└──────────┴──────────────┴─────────┘\n"
      ]
     },
     "metadata": {},
     "output_type": "display_data"
    }
   ],
   "source": [
    "table = Table(title=\"Значимость коэффициента детерминации\")\n",
    "\n",
    "labels = [\"Δ\", \"p-value\", \"значим?\"]\n",
    "\n",
    "for label in labels:\n",
    "  table.add_column(label, justify=\"center\")\n",
    "\n",
    "table.add_row(*[f\"{delta:.5f}\", f\"{p_value:e}\", \"Нет\" if p_value > alpha_sign else \"Да\"])\n",
    "\n",
    "console.print(table)"
   ]
  },
  {
   "cell_type": "markdown",
   "metadata": {},
   "source": [
    "## $ \\text{d) Найти значение в точке } x_k = 0 \\\\ \\text{ и построить 95\\% доверительный интервал.} $"
   ]
  },
  {
   "cell_type": "markdown",
   "metadata": {},
   "source": [
    "$ x_0 \\neq 0 $"
   ]
  },
  {
   "cell_type": "code",
   "execution_count": 730,
   "metadata": {},
   "outputs": [],
   "source": [
    "x = np.array([1, 0, 0, 0, 0, 0])\n",
    "y = np.sum(b * x)\n",
    "\n",
    "delta = st.t.ppf(1 - (alpha_sign / 2), N - P) * \\\n",
    "    np.sqrt(1 + x @ np.linalg.inv(F) @ x.T) * np.sqrt(RSS / (N - P))"
   ]
  },
  {
   "cell_type": "code",
   "execution_count": 731,
   "metadata": {},
   "outputs": [
    {
     "data": {
      "text/html": [
       "<pre style=\"white-space:pre;overflow-x:auto;line-height:normal;font-family:Menlo,'DejaVu Sans Mono',consolas,'Courier New',monospace\">╭─ Доверительный интервал ─╮                                                                                       \n",
       "│ <span style=\"font-weight: bold\">(-0.59877; 4.58856)     </span> │                                                                                       \n",
       "│ <span style=\"font-weight: bold\">        l = 5.18732     </span> │                                                                                       \n",
       "╰──────────────────────────╯                                                                                       \n",
       "</pre>\n"
      ],
      "text/plain": [
       "╭─ Доверительный интервал ─╮                                                                                       \n",
       "│ \u001b[1m(-0.59877; 4.58856)     \u001b[0m │                                                                                       \n",
       "│ \u001b[1m        \u001b[0m\u001b[1ml = 5.18732\u001b[0m\u001b[1m     \u001b[0m │                                                                                       \n",
       "╰──────────────────────────╯                                                                                       \n"
      ]
     },
     "metadata": {},
     "output_type": "display_data"
    }
   ],
   "source": [
    "lower_bound = y - delta\n",
    "upper_bound = y + delta\n",
    "\n",
    "console.print(Panel(Text(f\"({lower_bound:.5f}; {upper_bound:.5f})\\n\\tl = {(upper_bound - lower_bound):.5f}\",\n",
    "                         style=\"bold\"),\n",
    "                    title=\"Доверительный интервал\"),\n",
    "              justify=\"left\")"
   ]
  },
  {
   "cell_type": "markdown",
   "metadata": {},
   "source": [
    "## $ \\text{e) Проверить предположение } \\\\ \\text{ о независимости ошибок измерения.} $"
   ]
  },
  {
   "cell_type": "markdown",
   "metadata": {},
   "source": [
    "$H_0: \\text{ Ошибки измерения независимы и одинаковы распределены} $\n",
    "\n",
    "$H_1: \\overline H_0$"
   ]
  },
  {
   "cell_type": "code",
   "execution_count": 732,
   "metadata": {},
   "outputs": [],
   "source": [
    "# Кол-во нарушений порядка\n",
    "inv_amount = sum(1 for i in range(N) for j in range(i) if e[j] > e[i])\n",
    "\n",
    "delta = (inv_amount - (N * (N - 1)) / 4) / np.sqrt(N ** 3 / 36)\n",
    "\n",
    "p_value = 2 * st.norm.sf(np.abs(delta), 0, 1)"
   ]
  },
  {
   "cell_type": "code",
   "execution_count": 733,
   "metadata": {},
   "outputs": [
    {
     "data": {
      "text/html": [
       "<pre style=\"white-space:pre;overflow-x:auto;line-height:normal;font-family:Menlo,'DejaVu Sans Mono',consolas,'Courier New',monospace\"><span style=\"font-style: italic\"> Ошибки измерения независимы и одинаковы </span>\n",
       "<span style=\"font-style: italic\">              распределены               </span>\n",
       "┏━━━━━━━━━━┳━━━━━━━━━┳━━━━━━━━━━━━━━━━━━┓\n",
       "┃<span style=\"font-weight: bold\">    Δ     </span>┃<span style=\"font-weight: bold\"> p-value </span>┃<span style=\"font-weight: bold\"> H_0 отвергается? </span>┃\n",
       "┡━━━━━━━━━━╇━━━━━━━━━╇━━━━━━━━━━━━━━━━━━┩\n",
       "│ -0.22910 │ 0.81879 │       Нет        │\n",
       "└──────────┴─────────┴──────────────────┘\n",
       "</pre>\n"
      ],
      "text/plain": [
       "\u001b[3m Ошибки измерения независимы и одинаковы \u001b[0m\n",
       "\u001b[3m              распределены               \u001b[0m\n",
       "┏━━━━━━━━━━┳━━━━━━━━━┳━━━━━━━━━━━━━━━━━━┓\n",
       "┃\u001b[1m \u001b[0m\u001b[1m   Δ    \u001b[0m\u001b[1m \u001b[0m┃\u001b[1m \u001b[0m\u001b[1mp-value\u001b[0m\u001b[1m \u001b[0m┃\u001b[1m \u001b[0m\u001b[1mH_0 отвергается?\u001b[0m\u001b[1m \u001b[0m┃\n",
       "┡━━━━━━━━━━╇━━━━━━━━━╇━━━━━━━━━━━━━━━━━━┩\n",
       "│ -0.22910 │ 0.81879 │       Нет        │\n",
       "└──────────┴─────────┴──────────────────┘\n"
      ]
     },
     "metadata": {},
     "output_type": "display_data"
    }
   ],
   "source": [
    "table = Table(title=\"Ошибки измерения независимы и одинаковы распределены\")\n",
    "\n",
    "labels = [\"Δ\", \"p-value\", \"H_0 отвергается?\"]\n",
    "\n",
    "for label in labels:\n",
    "  table.add_column(label, justify=\"center\")\n",
    "\n",
    "table.add_row(*[f\"{delta:.5f}\", f\"{p_value:.5f}\", \"Нет\" if p_value > alpha_sign else \"Да\"])\n",
    "\n",
    "console.print(table)"
   ]
  },
  {
   "cell_type": "markdown",
   "metadata": {},
   "source": [
    "## $ \\text{f) Проверить предположение } \\\\ \\text{ о нормальности распределения ошибок.} $"
   ]
  },
  {
   "cell_type": "markdown",
   "metadata": {},
   "source": [
    "$H_0: \\text{ Ошибки измерения нормально распределены} $\n",
    "\n",
    "$H_1: \\overline H_0$"
   ]
  },
  {
   "cell_type": "code",
   "execution_count": 734,
   "metadata": {},
   "outputs": [],
   "source": [
    "def F_norm(x, alpha, sigma):\n",
    "  return 0.5 * (1 + math.erf((x - alpha) / (np.sqrt(2) * sigma)))\n",
    "\n",
    "\n",
    "x = sorted(e)\n",
    "\n",
    "F_emp = np.array([i for i in range(len(x) + 1)]) / N"
   ]
  },
  {
   "cell_type": "code",
   "execution_count": 735,
   "metadata": {},
   "outputs": [],
   "source": [
    "# Количество повторений bootstrap\n",
    "bootstrap_iterations = 50_000\n",
    "\n",
    "# оценка sigma_2 ** 2\n",
    "disp_wave_2 = (RSS / (N - P)) ** 0.5\n",
    "\n",
    "delta_wave = np.sqrt(N) * np.max([max(np.abs(F_norm(x[i], 0, disp_wave_2) - F_emp[i]),\n",
    "                                      np.abs(F_norm(x[i], 0, disp_wave_2) - F_emp[i + 1])) for i in range(N)])\n",
    "\n",
    "bootstrap_delta = []\n",
    "\n",
    "for _ in range(bootstrap_iterations):\n",
    "  # Случайная выборка, соотв норм. распределению с параметрами из О.М.П.Г.\n",
    "  random_sample = np.array(sorted(np.random.normal(0, disp_wave_2, N)))\n",
    "\n",
    "  # Оценка мат. ожидания по случайной подвыборке (bootstrap)\n",
    "  alpha_bootstrap = random_sample.mean()\n",
    "\n",
    "  # Оценка корня дисперсии по случайной подвыборке (bootstrap)\n",
    "  sigma_bootstrap = np.sqrt(random_sample.var() * N / (N - 1))\n",
    "\n",
    "  F_bootstrap_emp = [i / N for i in range(N + 1)]\n",
    "\n",
    "  # Функция нормального распределения по случайной подвыборке (bootstrap)\n",
    "  def F_bootstrap_wave(j):\n",
    "    return F_norm(random_sample[j], alpha_bootstrap, sigma_bootstrap)\n",
    "\n",
    "  sup = np.max([max(np.abs(F_bootstrap_wave(j) - F_bootstrap_emp[j]),\n",
    "                    np.abs(F_bootstrap_wave(j) - F_bootstrap_emp[j + 1]))\n",
    "                for j in range(len(random_sample))])\n",
    "\n",
    "  bootstrap_delta.append(np.sqrt(N) * sup)\n",
    "\n",
    "bootstrap_delta = np.array(bootstrap_delta)\n",
    "\n",
    "p_value = len(bootstrap_delta[bootstrap_delta >=\n",
    "              delta_wave]) / bootstrap_iterations"
   ]
  },
  {
   "cell_type": "code",
   "execution_count": 736,
   "metadata": {},
   "outputs": [
    {
     "data": {
      "text/html": [
       "<pre style=\"white-space:pre;overflow-x:auto;line-height:normal;font-family:Menlo,'DejaVu Sans Mono',consolas,'Courier New',monospace\"><span style=\"font-style: italic\">  Ошибки измерения нормально  </span>\n",
       "<span style=\"font-style: italic\">         распределены         </span>\n",
       "┏━━━━━━━━━┳━━━━━━━━━━━━━━━━━━┓\n",
       "┃<span style=\"font-weight: bold\"> p-value </span>┃<span style=\"font-weight: bold\"> H_0 отвергается? </span>┃\n",
       "┡━━━━━━━━━╇━━━━━━━━━━━━━━━━━━┩\n",
       "│ 0.25548 │       Нет        │\n",
       "└─────────┴──────────────────┘\n",
       "</pre>\n"
      ],
      "text/plain": [
       "\u001b[3m  Ошибки измерения нормально  \u001b[0m\n",
       "\u001b[3m         распределены         \u001b[0m\n",
       "┏━━━━━━━━━┳━━━━━━━━━━━━━━━━━━┓\n",
       "┃\u001b[1m \u001b[0m\u001b[1mp-value\u001b[0m\u001b[1m \u001b[0m┃\u001b[1m \u001b[0m\u001b[1mH_0 отвергается?\u001b[0m\u001b[1m \u001b[0m┃\n",
       "┡━━━━━━━━━╇━━━━━━━━━━━━━━━━━━┩\n",
       "│ 0.25548 │       Нет        │\n",
       "└─────────┴──────────────────┘\n"
      ]
     },
     "metadata": {},
     "output_type": "display_data"
    }
   ],
   "source": [
    "table = Table(title=\"Ошибки измерения нормально распределены\")\n",
    "\n",
    "labels = [\"p-value\", \"H_0 отвергается?\"]\n",
    "\n",
    "for label in labels:\n",
    "  table.add_column(label, justify=\"center\")\n",
    "\n",
    "table.add_row(*[f\"{p_value:.5f}\", \"Нет\" if p_value > alpha_sign else \"Да\"])\n",
    "\n",
    "console.print(table)"
   ]
  },
  {
   "cell_type": "markdown",
   "metadata": {},
   "source": [
    "## $ \\text{g) Исследовать регрессию на выбросы.} $"
   ]
  },
  {
   "cell_type": "code",
   "execution_count": 737,
   "metadata": {},
   "outputs": [
    {
     "data": {
      "image/png": "[encoded data removed]",
      "text/plain": [
       "<Figure size 1000x100 with 1 Axes>"
      ]
     },
     "metadata": {},
     "output_type": "display_data"
    }
   ],
   "source": [
    "_, axs = polt.subplots(1, 1, figsize=(10, 1))\n",
    "\n",
    "axs.set_title(\"Boxplot\")\n",
    "\n",
    "boxpolt(x=e,\n",
    "        color=\"green\",\n",
    "        whiskerprops={\"color\": \"white\", \"linewidth\": 1.5},\n",
    "        capprops={\"color\": \"white\", \"linewidth\": 2},\n",
    "        flierprops={'markerfacecolor': 'white', 'markersize': 8})\n",
    "\n",
    "axs.xaxis.set_minor_locator(AutoMinorLocator(10))\n",
    "axs.yaxis.set_minor_locator(AutoMinorLocator(10))\n",
    "\n",
    "polt.grid(which='minor', linestyle='--', linewidth=0.2)\n",
    "polt.grid(which='major', linewidth=0.4)\n",
    "\n",
    "polt.show()"
   ]
  },
  {
   "cell_type": "markdown",
   "metadata": {},
   "source": [
    "## $ \\text{h) Провести кросс-проверку регрессии.} $"
   ]
  },
  {
   "cell_type": "code",
   "execution_count": 738,
   "metadata": {},
   "outputs": [],
   "source": [
    "CVSS = 0\n",
    "sample_copy = sample.copy()\n",
    "\n",
    "for i in range(N):\n",
    "  sample = np.vstack([sample_copy[:i, :], sample_copy[(i + 1):, :]])\n",
    "  PSI = np.hstack([np.ones(shape=(N - 1, 1)), sample[:, :-1]])\n",
    "  Y = sample[:, ksi_amount]\n",
    "  F = PSI.T @ PSI\n",
    "  b_cvss = np.linalg.inv(F) @ PSI.T @ Y\n",
    "\n",
    "  e = Y - PSI @ b_cvss\n",
    "\n",
    "  x = sample_copy[i, :-1]\n",
    "  x = np.hstack([np.array([1]), x])\n",
    "  y = np.sum(b_cvss * x)\n",
    "\n",
    "  CVSS += (sample_copy[i, ksi_amount] - y) ** 2\n",
    "\n",
    "R2CVSS = 1 - CVSS / TSS\n",
    "\n",
    "sample = sample_copy"
   ]
  },
  {
   "cell_type": "code",
   "execution_count": 739,
   "metadata": {},
   "outputs": [
    {
     "data": {
      "text/html": [
       "<pre style=\"white-space:pre;overflow-x:auto;line-height:normal;font-family:Menlo,'DejaVu Sans Mono',consolas,'Courier New',monospace\">╭─ Кросс-проверка регрессии ─╮                                                                                     \n",
       "│ <span style=\"font-weight: bold\">CVSS = 92.81765           </span> │                                                                                     \n",
       "│ <span style=\"font-weight: bold\">R2CVSS = 0.73604          </span> │                                                                                     \n",
       "╰────────────────────────────╯                                                                                     \n",
       "</pre>\n"
      ],
      "text/plain": [
       "╭─ Кросс-проверка регрессии ─╮                                                                                     \n",
       "│ \u001b[1mCVSS = 92.81765           \u001b[0m │                                                                                     \n",
       "│ \u001b[1mR2CVSS = 0.73604          \u001b[0m │                                                                                     \n",
       "╰────────────────────────────╯                                                                                     \n"
      ]
     },
     "metadata": {},
     "output_type": "display_data"
    }
   ],
   "source": [
    "console.print(Panel(Text(f\"CVSS = {CVSS:.5f}\\nR2CVSS = {R2CVSS:.5f}\",\n",
    "                         style=\"bold\"),\n",
    "                    title=\"Кросс-проверка регрессии\"),\n",
    "              justify=\"left\")"
   ]
  },
  {
   "cell_type": "markdown",
   "metadata": {},
   "source": [
    "## $ \\text{i) Проверить адекватность регрессии,} \\\\ \\text{ сделав 5 повторных измерений в одной точке.} $"
   ]
  },
  {
   "cell_type": "code",
   "execution_count": 740,
   "metadata": {},
   "outputs": [],
   "source": [
    "l = 5  # кол-во измерений\n",
    "\n",
    "x = [1, 0, 0, 0, 0]\n",
    "\n",
    "y = []  # вектор измерений в одной точке\n",
    "for i in range(5):\n",
    "  y.append(st.norm(loc=2, scale=1.5).rvs(1))\n",
    "y = np.array(y)\n",
    "\n",
    "sigma = 1 / (l - 1) * np.sum((y - y.mean()) ** 2)\n",
    "\n",
    "delta = RSS / (N - P) / sigma\n",
    "p_value = st.f.sf(delta, N - P, l - 1)"
   ]
  },
  {
   "cell_type": "code",
   "execution_count": 741,
   "metadata": {},
   "outputs": [
    {
     "data": {
      "text/html": [
       "<pre style=\"white-space:pre;overflow-x:auto;line-height:normal;font-family:Menlo,'DejaVu Sans Mono',consolas,'Courier New',monospace\"><span style=\"font-style: italic\">           Адекватность модели           </span>\n",
       "┏━━━━━━━━━┳━━━━━━━━━┳━━━━━━━━━━━━━━━━━━━┓\n",
       "┃<span style=\"font-weight: bold\">    Δ    </span>┃<span style=\"font-weight: bold\"> p-value </span>┃<span style=\"font-weight: bold\"> модель адекватна? </span>┃\n",
       "┡━━━━━━━━━╇━━━━━━━━━╇━━━━━━━━━━━━━━━━━━━┩\n",
       "│ 1.38546 │ 0.41829 │        Да         │\n",
       "└─────────┴─────────┴───────────────────┘\n",
       "</pre>\n"
      ],
      "text/plain": [
       "\u001b[3m           Адекватность модели           \u001b[0m\n",
       "┏━━━━━━━━━┳━━━━━━━━━┳━━━━━━━━━━━━━━━━━━━┓\n",
       "┃\u001b[1m \u001b[0m\u001b[1m   Δ   \u001b[0m\u001b[1m \u001b[0m┃\u001b[1m \u001b[0m\u001b[1mp-value\u001b[0m\u001b[1m \u001b[0m┃\u001b[1m \u001b[0m\u001b[1mмодель адекватна?\u001b[0m\u001b[1m \u001b[0m┃\n",
       "┡━━━━━━━━━╇━━━━━━━━━╇━━━━━━━━━━━━━━━━━━━┩\n",
       "│ 1.38546 │ 0.41829 │        Да         │\n",
       "└─────────┴─────────┴───────────────────┘\n"
      ]
     },
     "metadata": {},
     "output_type": "display_data"
    }
   ],
   "source": [
    "table = Table(title=\"Адекватность модели\")\n",
    "\n",
    "labels = [\"Δ\", \"p-value\", \"модель адекватна?\"]\n",
    "\n",
    "for label in labels:\n",
    "  table.add_column(label, justify=\"center\")\n",
    "\n",
    "table.add_row(*[f\"{delta:.5f}\", f\"{p_value:.5f}\", \"Да\" if p_value > alpha_sign else \"Нет\"])\n",
    "\n",
    "console.print(table)"
   ]
  },
  {
   "cell_type": "markdown",
   "metadata": {},
   "source": [
    "## $ \\text{j) Удалить переменную,} \\\\ \\text{ соответствующую наим. знач. коэф.} \\\\ \\text{ и повторить пункты } b \\text{ и } c \\text{,} \\\\ \\text{ сравнить уравнения регрессии.} $"
   ]
  },
  {
   "cell_type": "code",
   "execution_count": 742,
   "metadata": {},
   "outputs": [],
   "source": [
    "index_to_drop = np.argmax(p_values)  # Номер самого незначимого коэффициента\n",
    "\n",
    "new_ksi_amount = 4\n",
    "P_new = 5"
   ]
  },
  {
   "cell_type": "code",
   "execution_count": 743,
   "metadata": {},
   "outputs": [],
   "source": [
    "sample = np.hstack([sample[:, :index_to_drop], sample[:, index_to_drop + 1:]])\n",
    "\n",
    "PSI = np.hstack([np.ones(shape=(N, 1)), sample[:, :-1]])\n",
    "\n",
    "Y = sample[:, new_ksi_amount]\n",
    "F = PSI.T @ PSI\n",
    "b = np.linalg.inv(F) @ PSI.T @ Y"
   ]
  },
  {
   "cell_type": "code",
   "execution_count": 744,
   "metadata": {},
   "outputs": [],
   "source": [
    "new_sample_df = pd.DataFrame({\n",
    "    \"ξ_1\": sample[:, 0],\n",
    "    \"ξ_2\": sample[:, 1],\n",
    "    \"ξ_3\": sample[:, 2],\n",
    "    \"ξ_4\": sample[:, 3],\n",
    "    \"η\": sample[:, 4]\n",
    "})"
   ]
  },
  {
   "cell_type": "code",
   "execution_count": 745,
   "metadata": {},
   "outputs": [
    {
     "data": {
      "text/html": [
       "<pre style=\"white-space:pre;overflow-x:auto;line-height:normal;font-family:Menlo,'DejaVu Sans Mono',consolas,'Courier New',monospace\">╭─────────────────────── Уравнение линейной регрессии ───────────────────────╮                                     \n",
       "│ <span style=\"font-weight: bold\">y = 1.9677 + 2.6386 • x_1 - 1.8356 • x_2 + 1.2943 • x_3 + 1.2428 • x_5 + e</span> │                                     \n",
       "╰────────────────────────────────────────────────────────────────────────────╯                                     \n",
       "</pre>\n"
      ],
      "text/plain": [
       "╭─────────────────────── Уравнение линейной регрессии ───────────────────────╮                                     \n",
       "│ \u001b[1my = 1.9677 + 2.6386 • x_1 - 1.8356 • x_2 + 1.2943 • x_3 + 1.2428 • x_5 + e\u001b[0m │                                     \n",
       "╰────────────────────────────────────────────────────────────────────────────╯                                     \n"
      ]
     },
     "metadata": {},
     "output_type": "display_data"
    }
   ],
   "source": [
    "console.print(Panel(Text(f\"y = {b[0]:.5}{\"\".join([f\"{\" + \" if b[i + 1] > 0 else \" - \"}\"\n",
    "                         f\"{np.abs(b[i + 1]):.5} • x_{i + 1 if i < index_to_drop - 1 else i + 2}\" for i in range(new_ksi_amount)])} + e\",\n",
    "                         style=\"bold\"),\n",
    "                    title=\"Уравнение линейной регрессии\"),\n",
    "              justify=\"left\")"
   ]
  },
  {
   "cell_type": "code",
   "execution_count": 746,
   "metadata": {},
   "outputs": [],
   "source": [
    "e = Y - PSI @ b\n",
    "RSS0 = e.T @ e"
   ]
  },
  {
   "cell_type": "code",
   "execution_count": 747,
   "metadata": {},
   "outputs": [
    {
     "data": {
      "text/html": [
       "<pre style=\"white-space:pre;overflow-x:auto;line-height:normal;font-family:Menlo,'DejaVu Sans Mono',consolas,'Courier New',monospace\">╭─ Residual Sum of Squares ─╮                                                                                      \n",
       "│ <span style=\"font-weight: bold\">98.64094                 </span> │                                                                                      \n",
       "╰───────────────────────────╯                                                                                      \n",
       "</pre>\n"
      ],
      "text/plain": [
       "╭─ Residual Sum of Squares ─╮                                                                                      \n",
       "│ \u001b[1m98.64094                 \u001b[0m │                                                                                      \n",
       "╰───────────────────────────╯                                                                                      \n"
      ]
     },
     "metadata": {},
     "output_type": "display_data"
    }
   ],
   "source": [
    "console.print(Panel(Text(f\"{RSS0:.5f}\",\n",
    "                         style=\"bold\"),\n",
    "                    title=\"Residual Sum of Squares\"),\n",
    "              justify=\"left\")"
   ]
  },
  {
   "cell_type": "code",
   "execution_count": 748,
   "metadata": {},
   "outputs": [],
   "source": [
    "deltas = []\n",
    "p_values = []\n",
    "\n",
    "for i in range(P_new):\n",
    "  deltas.append(b[i] / np.sqrt(RSS0 * np.linalg.inv(F)[i, i]) * np.sqrt(N - P_new))\n",
    "  p_values.append(2 * st.t.cdf(-abs(deltas[-1]), df=(N - P_new)))"
   ]
  },
  {
   "cell_type": "code",
   "execution_count": 749,
   "metadata": {},
   "outputs": [
    {
     "data": {
      "text/html": [
       "<pre style=\"white-space:pre;overflow-x:auto;line-height:normal;font-family:Menlo,'DejaVu Sans Mono',consolas,'Courier New',monospace\"><span style=\"font-style: italic\">                               Значимость коэффициентов                               </span>\n",
       "┏━━━━━━━━━┳━━━━━━━━━━━━━━┳━━━━━━━━━━━━━━┳━━━━━━━━━━━━━━┳━━━━━━━━━━━━━━┳━━━━━━━━━━━━━━┓\n",
       "┃<span style=\"font-weight: bold\">         </span>┃<span style=\"font-weight: bold\">     β_0      </span>┃<span style=\"font-weight: bold\">     β_1      </span>┃<span style=\"font-weight: bold\">     β_2      </span>┃<span style=\"font-weight: bold\">     β_3      </span>┃<span style=\"font-weight: bold\">     β_5      </span>┃\n",
       "┡━━━━━━━━━╇━━━━━━━━━━━━━━╇━━━━━━━━━━━━━━╇━━━━━━━━━━━━━━╇━━━━━━━━━━━━━━╇━━━━━━━━━━━━━━┩\n",
       "│    Δ    │   8.68114    │   7.02844    │   -5.29418   │   3.91839    │   3.17876    │\n",
       "│ p-value │ 3.593191e-11 │ 9.246987e-09 │ 3.434115e-06 │ 3.004068e-04 │ 2.675415e-03 │\n",
       "│ значим? │      Да      │      Да      │      Да      │      Да      │      Да      │\n",
       "└─────────┴──────────────┴──────────────┴──────────────┴──────────────┴──────────────┘\n",
       "</pre>\n"
      ],
      "text/plain": [
       "\u001b[3m                               Значимость коэффициентов                               \u001b[0m\n",
       "┏━━━━━━━━━┳━━━━━━━━━━━━━━┳━━━━━━━━━━━━━━┳━━━━━━━━━━━━━━┳━━━━━━━━━━━━━━┳━━━━━━━━━━━━━━┓\n",
       "┃\u001b[1m \u001b[0m\u001b[1m       \u001b[0m\u001b[1m \u001b[0m┃\u001b[1m \u001b[0m\u001b[1m    β_0     \u001b[0m\u001b[1m \u001b[0m┃\u001b[1m \u001b[0m\u001b[1m    β_1     \u001b[0m\u001b[1m \u001b[0m┃\u001b[1m \u001b[0m\u001b[1m    β_2     \u001b[0m\u001b[1m \u001b[0m┃\u001b[1m \u001b[0m\u001b[1m    β_3     \u001b[0m\u001b[1m \u001b[0m┃\u001b[1m \u001b[0m\u001b[1m    β_5     \u001b[0m\u001b[1m \u001b[0m┃\n",
       "┡━━━━━━━━━╇━━━━━━━━━━━━━━╇━━━━━━━━━━━━━━╇━━━━━━━━━━━━━━╇━━━━━━━━━━━━━━╇━━━━━━━━━━━━━━┩\n",
       "│    Δ    │   8.68114    │   7.02844    │   -5.29418   │   3.91839    │   3.17876    │\n",
       "│ p-value │ 3.593191e-11 │ 9.246987e-09 │ 3.434115e-06 │ 3.004068e-04 │ 2.675415e-03 │\n",
       "│ значим? │      Да      │      Да      │      Да      │      Да      │      Да      │\n",
       "└─────────┴──────────────┴──────────────┴──────────────┴──────────────┴──────────────┘\n"
      ]
     },
     "metadata": {},
     "output_type": "display_data"
    }
   ],
   "source": [
    "table = Table(title=\"Значимость коэффициентов\")\n",
    "\n",
    "table.add_column(\"\", justify=\"center\")\n",
    "\n",
    "labels = [\"β_0\", \"β_1\", \"β_2\", \"β_3\", \"β_5\"]\n",
    "row_labels = [\"Δ\", \"p-value\", \"значим?\"]\n",
    "\n",
    "for label in labels:\n",
    "  table.add_column(label, justify=\"center\")\n",
    "\n",
    "table_dict = {\n",
    "  \"Δ\": [f\"{delta:.5f}\" for delta in deltas],\n",
    "  \"p-value\": [f\"{p_value:e}\" for p_value in p_values],\n",
    "  \"значим?\": [\"Нет\" if p_value > alpha_sign else \"Да\" for p_value in p_values]\n",
    "}\n",
    "\n",
    "for label in row_labels:\n",
    "  table.add_row(label,\n",
    "                *[f\"{table_dict[label][i]}\" for i in range(P_new)])\n",
    "\n",
    "console.print(table)"
   ]
  },
  {
   "cell_type": "code",
   "execution_count": 750,
   "metadata": {},
   "outputs": [],
   "source": [
    "TSS0 = np.sum((Y - Y.mean()) ** 2)\n",
    "R20 = 1 - RSS0 / TSS0"
   ]
  },
  {
   "cell_type": "code",
   "execution_count": 751,
   "metadata": {},
   "outputs": [
    {
     "data": {
      "text/html": [
       "<pre style=\"white-space:pre;overflow-x:auto;line-height:normal;font-family:Menlo,'DejaVu Sans Mono',consolas,'Courier New',monospace\">╭─ Коэффициент детерминации ─╮                                                                                     \n",
       "│ <span style=\"font-weight: bold\">0.71948                   </span> │                                                                                     \n",
       "╰────────────────────────────╯                                                                                     \n",
       "</pre>\n"
      ],
      "text/plain": [
       "╭─ Коэффициент детерминации ─╮                                                                                     \n",
       "│ \u001b[1m0.71948                   \u001b[0m │                                                                                     \n",
       "╰────────────────────────────╯                                                                                     \n"
      ]
     },
     "metadata": {},
     "output_type": "display_data"
    }
   ],
   "source": [
    "console.print(Panel(Text(f\"{R20:.5f}\",\n",
    "                         style=\"bold\"),\n",
    "                    title=\"Коэффициент детерминации\"),\n",
    "              justify=\"left\")"
   ]
  },
  {
   "cell_type": "markdown",
   "metadata": {},
   "source": [
    "$$\n",
    "H_0: \\beta_i = 0, \\forall i \\in I\n",
    "$$\n",
    "\n",
    "$$\n",
    "H_1: \\exist i \\in I: \\beta_i \\neq 0\n",
    "$$\n",
    "\n",
    "\n",
    "$$\n",
    "\\Delta = \\frac{\\frac{RSS_0 - RSS_1}{p_1 - p_0}}{\\frac{RSS_1}{n - p_1}} \\sim F(p_1 - p_0, n - p_1)\n",
    "$$"
   ]
  },
  {
   "cell_type": "code",
   "execution_count": 752,
   "metadata": {},
   "outputs": [],
   "source": [
    "delta = ((RSS0 - RSS) / (P - P_new)) / (RSS / (N - P))\n",
    "\n",
    "p_value = st.f.sf(delta, P - P_new, N - P)"
   ]
  },
  {
   "cell_type": "code",
   "execution_count": 753,
   "metadata": {},
   "outputs": [
    {
     "data": {
      "text/html": [
       "<pre style=\"white-space:pre;overflow-x:auto;line-height:normal;font-family:Menlo,'DejaVu Sans Mono',consolas,'Courier New',monospace\"><span style=\"font-style: italic\">       Все β_i = 0 vs сущ. β_i = 0       </span>\n",
       "┏━━━━━━━━━━┳━━━━━━━━━┳━━━━━━━━━━━━━━━━━━┓\n",
       "┃<span style=\"font-weight: bold\">    Δ     </span>┃<span style=\"font-weight: bold\"> p-value </span>┃<span style=\"font-weight: bold\"> H_0 отвергается? </span>┃\n",
       "┡━━━━━━━━━━╇━━━━━━━━━╇━━━━━━━━━━━━━━━━━━┩\n",
       "│ 16.95542 │ 0.00017 │        Да        │\n",
       "└──────────┴─────────┴──────────────────┘\n",
       "</pre>\n"
      ],
      "text/plain": [
       "\u001b[3m       Все β_i = 0 vs сущ. β_i = 0       \u001b[0m\n",
       "┏━━━━━━━━━━┳━━━━━━━━━┳━━━━━━━━━━━━━━━━━━┓\n",
       "┃\u001b[1m \u001b[0m\u001b[1m   Δ    \u001b[0m\u001b[1m \u001b[0m┃\u001b[1m \u001b[0m\u001b[1mp-value\u001b[0m\u001b[1m \u001b[0m┃\u001b[1m \u001b[0m\u001b[1mH_0 отвергается?\u001b[0m\u001b[1m \u001b[0m┃\n",
       "┡━━━━━━━━━━╇━━━━━━━━━╇━━━━━━━━━━━━━━━━━━┩\n",
       "│ 16.95542 │ 0.00017 │        Да        │\n",
       "└──────────┴─────────┴──────────────────┘\n"
      ]
     },
     "metadata": {},
     "output_type": "display_data"
    }
   ],
   "source": [
    "table = Table(title=\"Все β_i = 0 vs сущ. β_i = 0\")\n",
    "\n",
    "labels = [\"Δ\", \"p-value\", \"H_0 отвергается?\"]\n",
    "\n",
    "for label in labels:\n",
    "  table.add_column(label, justify=\"center\")\n",
    "\n",
    "table.add_row(*[f\"{delta:.5f}\", f\"{p_value:.5f}\", \"Нет\" if p_value > alpha_sign else \"Да\"])\n",
    "\n",
    "console.print(table)"
   ]
  },
  {
   "cell_type": "markdown",
   "metadata": {},
   "source": [
    "## $ \\text{k) Сравнить уравнения регрессии бутстрапом.} $"
   ]
  },
  {
   "cell_type": "code",
   "execution_count": 754,
   "metadata": {},
   "outputs": [],
   "source": [
    "# Количество повторений бутстрапа\n",
    "bootstrap_iterations = 1000\n",
    "\n",
    "model_new = sm.OLS(new_sample_df['η'], PSI).fit()\n",
    "\n",
    "# Оценка полученная ОМП\n",
    "h_wave = model.rsquared - model_new.rsquared\n",
    "bootstrap_delta = []\n",
    "\n",
    "for _ in range(bootstrap_iterations):\n",
    "  sample = sm.add_constant(sample_df.sample(n=N, replace=True))\n",
    "  b_model = sm.OLS(sample.η, sample[['const', 'ξ_1', 'ξ_2', 'ξ_3', 'ξ_4', 'ξ_5']]).fit()\n",
    "  b_model_new = sm.OLS(sample.η, sample[['const', 'ξ_1', 'ξ_2', 'ξ_3', 'ξ_4']]).fit()\n",
    "\n",
    "  bootstrap_delta.append(b_model.rsquared - b_model_new.rsquared - h_wave)\n",
    "\n",
    "variation_row = sorted(bootstrap_delta)"
   ]
  },
  {
   "cell_type": "code",
   "execution_count": 755,
   "metadata": {},
   "outputs": [
    {
     "data": {
      "text/html": [
       "<pre style=\"white-space:pre;overflow-x:auto;line-height:normal;font-family:Menlo,'DejaVu Sans Mono',consolas,'Courier New',monospace\">╭─ Доверительный интервал ─╮                                                                                       \n",
       "│ <span style=\"font-weight: bold\">(-0.19194; 0.13757)     </span> │                                                                                       \n",
       "│ <span style=\"font-weight: bold\">        l = 0.32951     </span> │                                                                                       \n",
       "╰──────────────────────────╯                                                                                       \n",
       "</pre>\n"
      ],
      "text/plain": [
       "╭─ Доверительный интервал ─╮                                                                                       \n",
       "│ \u001b[1m(-0.19194; 0.13757)     \u001b[0m │                                                                                       \n",
       "│ \u001b[1m        \u001b[0m\u001b[1ml = 0.32951\u001b[0m\u001b[1m     \u001b[0m │                                                                                       \n",
       "╰──────────────────────────╯                                                                                       \n"
      ]
     },
     "metadata": {},
     "output_type": "display_data"
    },
    {
     "data": {
      "text/html": [
       "<pre style=\"white-space:pre;overflow-x:auto;line-height:normal;font-family:Menlo,'DejaVu Sans Mono',consolas,'Courier New',monospace\">Различие незначимо\n",
       "</pre>\n"
      ],
      "text/plain": [
       "Различие незначимо\n"
      ]
     },
     "metadata": {},
     "output_type": "display_data"
    }
   ],
   "source": [
    "lower_bound = h_wave - variation_row[-1]\n",
    "upper_bound = h_wave - variation_row[int((1 - beta_sign) * bootstrap_iterations)]\n",
    "\n",
    "console.print(Panel(Text(f\"({lower_bound:.5f}; {upper_bound:.5f})\\n\\tl = {(upper_bound - lower_bound):.5f}\",\n",
    "                         style=\"bold\"),\n",
    "                    title=\"Доверительный интервал\"),\n",
    "              justify=\"left\")\n",
    "\n",
    "if (lower_bound * upper_bound > 0):\n",
    "  console.print(\"Различие значимо\")\n",
    "else:\n",
    "  console.print(\"Различие незначимо\")"
   ]
  }
 ],
 "metadata": {
  "kernelspec": {
   "display_name": ".venv",
   "language": "python",
   "name": "python3"
  },
  "language_info": {
   "codemirror_mode": {
    "name": "ipython",
    "version": 3
   },
   "file_extension": ".py",
   "mimetype": "text/x-python",
   "name": "python",
   "nbconvert_exporter": "python",
   "pygments_lexer": "ipython3",
   "version": "3.12.8"
  }
 },
 "nbformat": 4,
 "nbformat_minor": 2
}
