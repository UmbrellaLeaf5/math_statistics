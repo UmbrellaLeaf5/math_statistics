{
 "cells": [
  {
   "cell_type": "markdown",
   "metadata": {},
   "source": [
    "# $ \\text{Т.2} $\n",
    "\n",
    "$$ \\text{Случайная величина имеет экспоненциальный закон распределения:} $$\n",
    "\n",
    "$$ p(x) = \\begin{cases}\n",
    "  e^{-x}, & x \\geq 0, \\\\\n",
    "  0, &  x < 0\n",
    "\\end{cases} $$"
   ]
  },
  {
   "cell_type": "markdown",
   "metadata": {},
   "source": [
    "$ \\text{0) Сгенерировать выборку объёма } n = 25. $"
   ]
  },
  {
   "cell_type": "markdown",
   "metadata": {},
   "source": [
    "$ \\text{1) Определить по выборке моду, \n",
    "медиану, \n",
    "размах, \n",
    "оценку коэффициента асимметрии.} $"
   ]
  },
  {
   "cell_type": "markdown",
   "metadata": {
    "vscode": {
     "languageId": "plaintext"
    }
   },
   "source": [
    "$ \\text{2) Построить эмпирическую функцию распределения, гистограмму и boxplot.} $"
   ]
  },
  {
   "cell_type": "markdown",
   "metadata": {},
   "source": [
    "$ \\text{3) Сравнить оценку плотности распределения ср. арифм. элементов выборки,} \\\\ \\text{полученную с помощью ЦПТ, с bootstrap-оценкой этой плотности.} $"
   ]
  },
  {
   "cell_type": "markdown",
   "metadata": {},
   "source": [
    "$ \\text{4) Найти bootstrap-оценку плотности распределения коэффициента асимметрии} \\\\ \\text{и оценить вероятность того, что коэффициент асимметрии будет меньше 1.} $"
   ]
  },
  {
   "cell_type": "markdown",
   "metadata": {},
   "source": [
    "$ \\text{5) Сравнить плотность распределения медианы выборки с bootstrap-оценкой этой плотности.} $"
   ]
  }
 ],
 "metadata": {
  "language_info": {
   "name": "python"
  }
 },
 "nbformat": 4,
 "nbformat_minor": 2
}
