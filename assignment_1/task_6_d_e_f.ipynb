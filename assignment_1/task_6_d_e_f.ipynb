{
 "cells": [
  {
   "cell_type": "markdown",
   "metadata": {},
   "source": [
    "# $ \\text{Т.6} $\n",
    "\n",
    "$$ \\text{Случайная величина имеет распределение Парето:} $$\n",
    "\n",
    "$$ p(x, \\theta) = \\begin{cases}\n",
    "  \\frac{\\theta - 1}{x^{\\theta}}, & x \\geq 1, \\\\\n",
    "  0, &  x < 1\n",
    "\\end{cases}\n",
    ",\n",
    "$$\n",
    "\n",
    "$$ \\text{где } \\theta > 1 $$\n",
    "\n"
   ]
  },
  {
   "cell_type": "code",
   "execution_count": 1,
   "metadata": {},
   "outputs": [],
   "source": [
    "from rich.console import Console\n",
    "from rich.table import Table\n",
    "from rich.panel import Panel\n",
    "from rich.text import Text\n",
    "\n",
    "import numpy as np\n",
    "\n",
    "console = Console()\n",
    "table = Table()"
   ]
  },
  {
   "cell_type": "markdown",
   "metadata": {},
   "source": [
    "## $ \\text{d) Сгенерировать выборку объёма } n = 100 \\\\ \\text{ для некоторого значения параметра } \\theta \\text{.} \\\\ \\text{ Вычислите указанные выше (по задаче)} \\\\ \\text{ доверительные интервалы для } \\beta = 0.95 \\text{.}$"
   ]
  },
  {
   "cell_type": "code",
   "execution_count": 2,
   "metadata": {},
   "outputs": [],
   "source": [
    "def p(x: float, theta: float) -> float:\n",
    "    \"\"\"Закон распределения.\"\"\"\n",
    "    return (theta - 1) / (x ** theta) if x >= 1 else 0\n",
    "\n",
    "def F(x: float, theta: float) -> float:\n",
    "    \"\"\"Функция распределения.\"\"\"\n",
    "    return (1 - x ** (1 - theta)) if x >= 1 else 0\n",
    "\n",
    "def InverseF(y: float, theta: float) -> float:\n",
    "    \"\"\"Обратная к функции распределения.\"\"\"\n",
    "    return (1 - y) ** (1 / (1 - theta))\n",
    "\n",
    "# Размер выборки\n",
    "N = 100\n",
    "\n",
    "# Доверительная информация\n",
    "beta = 0.95\n",
    "\n",
    "# Некоторое значение параметра тета\n",
    "theta = 1000\n",
    "\n",
    "confidence_intervals: dict[str, int] = {}"
   ]
  },
  {
   "cell_type": "code",
   "execution_count": 3,
   "metadata": {},
   "outputs": [],
   "source": [
    "rng = np.random.default_rng()\n",
    "random_numbers = rng.random(size=N)\n",
    "\n",
    "# Выборка\n",
    "sample = np.array([InverseF(y, theta) for y in random_numbers])\n",
    "\n",
    "# mean(ln(x))\n",
    "ln_mean = np.mean([np.log(x) for x in sample])"
   ]
  },
  {
   "cell_type": "code",
   "execution_count": 4,
   "metadata": {},
   "outputs": [
    {
     "data": {
      "text/html": [
       "<pre style=\"white-space:pre;overflow-x:auto;line-height:normal;font-family:Menlo,'DejaVu Sans Mono',consolas,'Courier New',monospace\">┏━━━━━━━━━━━━━━━━━━━━━━━━━━━━━━━━━━━━━━━━━━━━━━━┓\n",
       "┃<span style=\"font-weight: bold\">                    Выборка                    </span>┃\n",
       "┡━━━━━━━━━━━━━━━━━━━━━━━━━━━━━━━━━━━━━━━━━━━━━━━┩\n",
       "│ 1.0001922 │ 1.0026264 │ 1.0024771 │ 1.0000438 │\n",
       "│ 1.0026264 │ 1.0024771 │ 1.0000438 │ 1.0001748 │\n",
       "│ 1.0024771 │ 1.0000438 │ 1.0001748 │ 1.0011287 │\n",
       "│ 1.0000438 │ 1.0001748 │ 1.0011287 │ 1.0009063 │\n",
       "│ 1.0001748 │ 1.0011287 │ 1.0009063 │ 1.0001711 │\n",
       "│ 1.0011287 │ 1.0009063 │ 1.0001711 │ 1.0000073 │\n",
       "│ 1.0009063 │ 1.0001711 │ 1.0000073 │ 1.0024426 │\n",
       "│ 1.0001711 │ 1.0000073 │ 1.0024426 │ 1.0017758 │\n",
       "│ 1.0000073 │ 1.0024426 │ 1.0017758 │ 1.0008110 │\n",
       "│ 1.0024426 │ 1.0017758 │ 1.0008110 │ 1.0020398 │\n",
       "│ 1.0017758 │ 1.0008110 │ 1.0020398 │ 1.0009600 │\n",
       "│ 1.0008110 │ 1.0020398 │ 1.0009600 │ 1.0012365 │\n",
       "│ 1.0020398 │ 1.0009600 │ 1.0012365 │ 1.0008818 │\n",
       "│ 1.0009600 │ 1.0012365 │ 1.0008818 │ 1.0005062 │\n",
       "│ 1.0012365 │ 1.0008818 │ 1.0005062 │ 1.0007782 │\n",
       "│ 1.0008818 │ 1.0005062 │ 1.0007782 │ 1.0013665 │\n",
       "│ 1.0005062 │ 1.0007782 │ 1.0013665 │ 1.0010255 │\n",
       "│ 1.0007782 │ 1.0013665 │ 1.0010255 │ 1.0010604 │\n",
       "│ 1.0013665 │ 1.0010255 │ 1.0010604 │ 1.0004269 │\n",
       "│ 1.0010255 │ 1.0010604 │ 1.0004269 │ 1.0004438 │\n",
       "│ 1.0010604 │ 1.0004269 │ 1.0004438 │ 1.0010391 │\n",
       "│ 1.0004269 │ 1.0004438 │ 1.0010391 │ 1.0022321 │\n",
       "│ 1.0004438 │ 1.0010391 │ 1.0022321 │ 1.0004731 │\n",
       "│ 1.0010391 │ 1.0022321 │ 1.0004731 │ 1.0008702 │\n",
       "│ 1.0022321 │ 1.0004731 │ 1.0008702 │ 1.0006223 │\n",
       "└───────────────────────────────────────────────┘\n",
       "</pre>\n"
      ],
      "text/plain": [
       "┏━━━━━━━━━━━━━━━━━━━━━━━━━━━━━━━━━━━━━━━━━━━━━━━┓\n",
       "┃\u001b[1m \u001b[0m\u001b[1m                   Выборка                   \u001b[0m\u001b[1m \u001b[0m┃\n",
       "┡━━━━━━━━━━━━━━━━━━━━━━━━━━━━━━━━━━━━━━━━━━━━━━━┩\n",
       "│ 1.0001922 │ 1.0026264 │ 1.0024771 │ 1.0000438 │\n",
       "│ 1.0026264 │ 1.0024771 │ 1.0000438 │ 1.0001748 │\n",
       "│ 1.0024771 │ 1.0000438 │ 1.0001748 │ 1.0011287 │\n",
       "│ 1.0000438 │ 1.0001748 │ 1.0011287 │ 1.0009063 │\n",
       "│ 1.0001748 │ 1.0011287 │ 1.0009063 │ 1.0001711 │\n",
       "│ 1.0011287 │ 1.0009063 │ 1.0001711 │ 1.0000073 │\n",
       "│ 1.0009063 │ 1.0001711 │ 1.0000073 │ 1.0024426 │\n",
       "│ 1.0001711 │ 1.0000073 │ 1.0024426 │ 1.0017758 │\n",
       "│ 1.0000073 │ 1.0024426 │ 1.0017758 │ 1.0008110 │\n",
       "│ 1.0024426 │ 1.0017758 │ 1.0008110 │ 1.0020398 │\n",
       "│ 1.0017758 │ 1.0008110 │ 1.0020398 │ 1.0009600 │\n",
       "│ 1.0008110 │ 1.0020398 │ 1.0009600 │ 1.0012365 │\n",
       "│ 1.0020398 │ 1.0009600 │ 1.0012365 │ 1.0008818 │\n",
       "│ 1.0009600 │ 1.0012365 │ 1.0008818 │ 1.0005062 │\n",
       "│ 1.0012365 │ 1.0008818 │ 1.0005062 │ 1.0007782 │\n",
       "│ 1.0008818 │ 1.0005062 │ 1.0007782 │ 1.0013665 │\n",
       "│ 1.0005062 │ 1.0007782 │ 1.0013665 │ 1.0010255 │\n",
       "│ 1.0007782 │ 1.0013665 │ 1.0010255 │ 1.0010604 │\n",
       "│ 1.0013665 │ 1.0010255 │ 1.0010604 │ 1.0004269 │\n",
       "│ 1.0010255 │ 1.0010604 │ 1.0004269 │ 1.0004438 │\n",
       "│ 1.0010604 │ 1.0004269 │ 1.0004438 │ 1.0010391 │\n",
       "│ 1.0004269 │ 1.0004438 │ 1.0010391 │ 1.0022321 │\n",
       "│ 1.0004438 │ 1.0010391 │ 1.0022321 │ 1.0004731 │\n",
       "│ 1.0010391 │ 1.0022321 │ 1.0004731 │ 1.0008702 │\n",
       "│ 1.0022321 │ 1.0004731 │ 1.0008702 │ 1.0006223 │\n",
       "└───────────────────────────────────────────────┘\n"
      ]
     },
     "metadata": {},
     "output_type": "display_data"
    }
   ],
   "source": [
    "table.add_column(header=\"Выборка\", justify=\"center\")\n",
    "\n",
    "for i in range(len(sample) // 4):\n",
    "    s = sample[i]\n",
    "    s_1 = sample[i+1]\n",
    "    s_2 = sample[i+2]\n",
    "    s_3 = sample[i+3]\n",
    "\n",
    "    table.add_row(f\"{s:.7f} │ {s_1:.7f} │ {s_2:.7f} │ {s_3:.7f}\")\n",
    "\n",
    "console.print(table)"
   ]
  },
  {
   "cell_type": "markdown",
   "metadata": {},
   "source": [
    "$$ \\text{Асимптотический доверительный интервал (О.М.П.) для медианы:} $$\n",
    "\n",
    "$$ P\\left(\\sqrt[\\tilde\\theta - 1]{2} - \\frac{1,96 \\cdot \\ln2 \\cdot \\sqrt[\\tilde\\theta - 1]{2}}{\\sqrt{n} (\\tilde\\theta - 1)} < x_{0,5} < \\sqrt[\\tilde\\theta - 1]{2} + \\frac{1,96 \\cdot \\ln2 \\cdot \\sqrt[\\tilde\\theta - 1]{2}}{\\sqrt{n} (\\tilde\\theta - 1)}\\right) = \\beta $$\n",
    "\n",
    "$$ P\\left(2 ^ {\\overline{\\ln x}} - \\frac{1,96 \\cdot \\ln2 \\cdot 2^{\\overline{\\ln x}} \\cdot \\overline{\\ln x}}{\\sqrt{n}} < x_{0,5} < 2^{\\overline{\\ln x}} + \\frac{1,96 \\cdot \\ln2 \\cdot 2^{\\overline{\\ln x}} \\cdot \\overline{\\ln x}}{\\sqrt{n}}\\right)=\\beta $$"
   ]
  },
  {
   "cell_type": "code",
   "execution_count": 5,
   "metadata": {},
   "outputs": [
    {
     "data": {
      "text/html": [
       "<pre style=\"white-space:pre;overflow-x:auto;line-height:normal;font-family:Menlo,'DejaVu Sans Mono',consolas,'Courier New',monospace\">╭─ Асимптотический доверительный интервал (О.М.П.) для медианы ─╮                                                  \n",
       "│ <span style=\"font-weight: bold\">1.000668923603079 &lt; x₀₅ &lt; 1.0009952341956438                 </span> │                                                  \n",
       "│ <span style=\"font-weight: bold\">        l = 0.00032631059256482686                           </span> │                                                  \n",
       "│ <span style=\"font-weight: bold\">        median: 1.000959215681263                            </span> │                                                  \n",
       "╰───────────────────────────────────────────────────────────────╯                                                  \n",
       "</pre>\n"
      ],
      "text/plain": [
       "╭─ Асимптотический доверительный интервал (О.М.П.) для медианы ─╮                                                  \n",
       "│ \u001b[1m1.000668923603079 < x₀₅ < 1.0009952341956438                 \u001b[0m │                                                  \n",
       "│ \u001b[1m        \u001b[0m\u001b[1ml = 0.00032631059256482686\u001b[0m\u001b[1m                           \u001b[0m │                                                  \n",
       "│ \u001b[1m        \u001b[0m\u001b[1mmedian: 1.000959215681263\u001b[0m\u001b[1m                            \u001b[0m │                                                  \n",
       "╰───────────────────────────────────────────────────────────────╯                                                  \n"
      ]
     },
     "metadata": {},
     "output_type": "display_data"
    }
   ],
   "source": [
    "lower_bound = 2 ** ln_mean - (1.96 * np.log(2) * 2 ** ln_mean * ln_mean) / np.sqrt(N)\n",
    "upper_bound = 2 ** ln_mean + (1.96 * np.log(2) * 2 ** ln_mean * ln_mean) / np.sqrt(N)\n",
    "\n",
    "console.print(Panel(Text(f\"{lower_bound} < x₀₅ < {upper_bound}\"\n",
    "                         f\"\\n\\tl = {upper_bound - lower_bound}\"\n",
    "                         f\"\\n\\tmedian: {np.median(sample)}\",\n",
    "                         style=\"bold\"),\n",
    "                    title=\"Асимптотический доверительный интервал (О.М.П.) для медианы\"),\n",
    "                    justify=\"left\")"
   ]
  },
  {
   "cell_type": "markdown",
   "metadata": {},
   "source": [
    "$$ \\text{Асимптотический доверительный интервал (О.М.П.):} $$\n",
    "\n",
    "$$ P\\left(1 - \\frac{1.96 - \\sqrt{n}}{\\sqrt{n} \\cdot \\overline{\\ln(x)}} < \\theta < 1 + \\frac{1.96 + \\sqrt{n}}{\\sqrt{n} \\cdot \\overline{\\ln(x)}}\\right)=\\beta $$"
   ]
  },
  {
   "cell_type": "code",
   "execution_count": 6,
   "metadata": {},
   "outputs": [
    {
     "data": {
      "text/html": [
       "<pre style=\"white-space:pre;overflow-x:auto;line-height:normal;font-family:Menlo,'DejaVu Sans Mono',consolas,'Courier New',monospace\">╭─ Асимптотический доверительный интервал (О.М.П.) ─╮                                                              \n",
       "│ <span style=\"font-weight: bold\">671.035204860282 &lt; θ &lt; 997.7190360856932         </span> │                                                              \n",
       "│ <span style=\"font-weight: bold\">        l = 326.68383122541127                   </span> │                                                              \n",
       "╰───────────────────────────────────────────────────╯                                                              \n",
       "</pre>\n"
      ],
      "text/plain": [
       "╭─ Асимптотический доверительный интервал (О.М.П.) ─╮                                                              \n",
       "│ \u001b[1m671.035204860282 < θ < 997.7190360856932         \u001b[0m │                                                              \n",
       "│ \u001b[1m        \u001b[0m\u001b[1ml = 326.68383122541127\u001b[0m\u001b[1m                   \u001b[0m │                                                              \n",
       "╰───────────────────────────────────────────────────╯                                                              \n"
      ]
     },
     "metadata": {},
     "output_type": "display_data"
    }
   ],
   "source": [
    "lower_bound = 1 - (1.96 - np.sqrt(N)) / (ln_mean * np.sqrt(N))\n",
    "upper_bound = 1 + (1.96 + np.sqrt(N)) / (ln_mean * np.sqrt(N))\n",
    "\n",
    "console.print(Panel(Text(f\"{lower_bound} < θ < {upper_bound}\\n\\tl = {upper_bound - lower_bound}\",\n",
    "                         style=\"bold\"),\n",
    "                    title=\"Асимптотический доверительный интервал (О.М.П.)\"),\n",
    "                    justify=\"left\")\n",
    "\n",
    "confidence_intervals[\"Асимптотический доверительный интервал (О.М.П.)\"] = upper_bound - lower_bound"
   ]
  },
  {
   "cell_type": "markdown",
   "metadata": {},
   "source": [
    "## $ \\text{g) Численно постройте bootstrap'овский} \\\\ \\text{ доверительный интервал двумя способами:} \\\\ \\text{ используя параметрический bootstrap} \\\\ \\text{ и непараметрический bootstrap.}$"
   ]
  },
  {
   "cell_type": "markdown",
   "metadata": {},
   "source": [
    "#### $$ \\text{Непараметрический bootstrap} $$"
   ]
  },
  {
   "cell_type": "code",
   "execution_count": null,
   "metadata": {},
   "outputs": [],
   "source": [
    "# Количество повторений bootstrap\n",
    "bootstrap_iterations = 1000\n",
    "\n",
    "# Полученная О.М.П.\n",
    "theta_OMP = 1 + 1 / ln_mean.astype(float)"
   ]
  },
  {
   "cell_type": "code",
   "execution_count": null,
   "metadata": {},
   "outputs": [],
   "source": [
    "bootstrap_delta: list[float] = []\n",
    "\n",
    "for _ in range(bootstrap_iterations):\n",
    "    bootstrap_delta.append(1 + 1 /\\\n",
    "                            np.mean([np.log(x) for x in np.random.choice(sample, size=N)\n",
    "                                     ]).astype(float) \\\n",
    "                           - theta_OMP)"
   ]
  },
  {
   "cell_type": "code",
   "execution_count": null,
   "metadata": {},
   "outputs": [
    {
     "data": {
      "text/html": [
       "<pre style=\"white-space:pre;overflow-x:auto;line-height:normal;font-family:Menlo,'DejaVu Sans Mono',consolas,'Courier New',monospace\">╭─ Непараметрический bootstrap'овский доверительный интервал ─╮                                                    \n",
       "│ <span style=\"font-weight: bold\">644.3729421794662 &lt; θ &lt; 961.9001328799885                  </span> │                                                    \n",
       "│ <span style=\"font-weight: bold\">        l = 317.5271907005223                              </span> │                                                    \n",
       "╰─────────────────────────────────────────────────────────────╯                                                    \n",
       "</pre>\n"
      ],
      "text/plain": [
       "╭─ Непараметрический bootstrap'овский доверительный интервал ─╮                                                    \n",
       "│ \u001b[1m644.3729421794662 < θ < 961.9001328799885                  \u001b[0m │                                                    \n",
       "│ \u001b[1m        \u001b[0m\u001b[1ml = 317.5271907005223\u001b[0m\u001b[1m                              \u001b[0m │                                                    \n",
       "╰─────────────────────────────────────────────────────────────╯                                                    \n"
      ]
     },
     "metadata": {},
     "output_type": "display_data"
    }
   ],
   "source": [
    "lower_bound = theta_OMP - sorted(bootstrap_delta)[int((1 + beta) * bootstrap_iterations / 2)]\n",
    "upper_bound = theta_OMP - sorted(bootstrap_delta)[int((1 - beta) * bootstrap_iterations / 2)]\n",
    "\n",
    "console.print(Panel(Text(f\"{lower_bound} < θ < {upper_bound}\"\n",
    "                         f\"\\n\\tl = {upper_bound - lower_bound}\",\n",
    "                         style=\"bold\"),\n",
    "                    title=\"Непараметрический bootstrap'овский доверительный интервал\"),\n",
    "                    justify=\"left\")\n",
    "\n",
    "confidence_intervals[\"Непараметрический bootstrap'овский доверительный интервал\"] =\\\n",
    "    upper_bound - lower_bound"
   ]
  },
  {
   "cell_type": "markdown",
   "metadata": {},
   "source": [
    "#### $$ \\text{Параметрический bootstrap} $$"
   ]
  },
  {
   "cell_type": "code",
   "execution_count": null,
   "metadata": {},
   "outputs": [],
   "source": [
    "# Количество повторений bootstrap\n",
    "bootstrap_iterations = 50_000"
   ]
  },
  {
   "cell_type": "code",
   "execution_count": null,
   "metadata": {},
   "outputs": [],
   "source": [
    "bootstrap_delta: list[float] = []\n",
    "\n",
    "for _ in range(bootstrap_iterations):\n",
    "    random_sample  =  []\n",
    "\n",
    "    for _ in range(N):\n",
    "        y = np.random.random()\n",
    "        random_sample.append(InverseF(y, theta_OMP))\n",
    "\n",
    "    bootstrap_delta.append(1 + 1 / np.mean([np.log(x) for x in random_sample]) - theta_OMP)"
   ]
  },
  {
   "cell_type": "code",
   "execution_count": null,
   "metadata": {},
   "outputs": [
    {
     "data": {
      "text/html": [
       "<pre style=\"white-space:pre;overflow-x:auto;line-height:normal;font-family:Menlo,'DejaVu Sans Mono',consolas,'Courier New',monospace\">╭─ Параметрический bootstrap'овский доверительный интервал ─╮                                                      \n",
       "│ <span style=\"font-weight: bold\">643.8920869140593 &lt; θ &lt; 974.5690161270891                </span> │                                                      \n",
       "│ <span style=\"font-weight: bold\">        l = 330.6769292130298                            </span> │                                                      \n",
       "╰───────────────────────────────────────────────────────────╯                                                      \n",
       "</pre>\n"
      ],
      "text/plain": [
       "╭─ Параметрический bootstrap'овский доверительный интервал ─╮                                                      \n",
       "│ \u001b[1m643.8920869140593 < θ < 974.5690161270891                \u001b[0m │                                                      \n",
       "│ \u001b[1m        \u001b[0m\u001b[1ml = 330.6769292130298\u001b[0m\u001b[1m                            \u001b[0m │                                                      \n",
       "╰───────────────────────────────────────────────────────────╯                                                      \n"
      ]
     },
     "metadata": {},
     "output_type": "display_data"
    }
   ],
   "source": [
    "lower_bound = theta_OMP - sorted(bootstrap_delta)[int((1 + beta) * bootstrap_iterations / 2)]\n",
    "upper_bound = theta_OMP - sorted(bootstrap_delta)[int((1 - beta) * bootstrap_iterations / 2)]\n",
    "\n",
    "console.print(Panel(Text(f\"{lower_bound} < θ < {upper_bound}\"\n",
    "                         f\"\\n\\tl = {upper_bound - lower_bound}\",\n",
    "                         style=\"bold\"),\n",
    "                    title=\"Параметрический bootstrap'овский доверительный интервал\"),\n",
    "                    justify=\"left\")\n",
    "\n",
    "confidence_intervals[\"Параметрический bootstrap'овский доверительный интервал\"] =\\\n",
    "    upper_bound - lower_bound"
   ]
  },
  {
   "cell_type": "markdown",
   "metadata": {},
   "source": [
    "## $ \\text{g)  Сравнить все интервалы.} $"
   ]
  },
  {
   "cell_type": "code",
   "execution_count": 13,
   "metadata": {},
   "outputs": [
    {
     "data": {
      "text/html": [
       "<pre style=\"white-space:pre;overflow-x:auto;line-height:normal;font-family:Menlo,'DejaVu Sans Mono',consolas,'Courier New',monospace\">Доверительные интервалы <span style=\"font-weight: bold\">(</span>в порядке улучшения<span style=\"font-weight: bold\">)</span>:\n",
       "\n",
       " <span style=\"font-weight: bold\">Непараметрический bootstrap'овский доверительный интервал</span> <span style=\"font-weight: bold\">(</span><span style=\"color: #008080; text-decoration-color: #008080\">l = </span><span style=\"color: #008080; text-decoration-color: #008080; font-weight: bold\">317.53</span><span style=\"font-weight: bold\">)</span>\n",
       " <span style=\"font-weight: bold\">Асимптотический доверительный интервал (О.М.П.)</span> <span style=\"font-weight: bold\">(</span><span style=\"color: #008080; text-decoration-color: #008080\">l = </span><span style=\"color: #008080; text-decoration-color: #008080; font-weight: bold\">326.68</span><span style=\"font-weight: bold\">)</span>\n",
       " <span style=\"font-weight: bold\">Параметрический bootstrap'овский доверительный интервал</span> <span style=\"font-weight: bold\">(</span><span style=\"color: #008080; text-decoration-color: #008080\">l = </span><span style=\"color: #008080; text-decoration-color: #008080; font-weight: bold\">330.68</span><span style=\"font-weight: bold\">)</span>\n",
       "\n",
       "</pre>\n"
      ],
      "text/plain": [
       "Доверительные интервалы \u001b[1m(\u001b[0mв порядке улучшения\u001b[1m)\u001b[0m:\n",
       "\n",
       " \u001b[1mНепараметрический bootstrap'овский доверительный интервал\u001b[0m \u001b[1m(\u001b[0m\u001b[36ml = \u001b[0m\u001b[1;36m317.53\u001b[0m\u001b[1m)\u001b[0m\n",
       " \u001b[1mАсимптотический доверительный интервал \u001b[0m\u001b[1m(\u001b[0m\u001b[1mО.М.П.\u001b[0m\u001b[1m)\u001b[0m \u001b[1m(\u001b[0m\u001b[36ml = \u001b[0m\u001b[1;36m326.68\u001b[0m\u001b[1m)\u001b[0m\n",
       " \u001b[1mПараметрический bootstrap'овский доверительный интервал\u001b[0m \u001b[1m(\u001b[0m\u001b[36ml = \u001b[0m\u001b[1;36m330.68\u001b[0m\u001b[1m)\u001b[0m\n",
       "\n"
      ]
     },
     "metadata": {},
     "output_type": "display_data"
    }
   ],
   "source": [
    "confidence_intervals = sorted(confidence_intervals.items(), key=lambda item: item[1])\n",
    "\n",
    "output: list[str] = [\"Доверительные интервалы (в порядке улучшения):\\n\\n\"]\n",
    "\n",
    "for interval_name, interval_value in confidence_intervals:\n",
    "    output.append(f\"[bold]{interval_name}[/bold] ([cyan]l = {interval_value:.2f}[/cyan])\\n\")\n",
    "\n",
    "console.print(*output)"
   ]
  }
 ],
 "metadata": {
  "kernelspec": {
   "display_name": ".venv",
   "language": "python",
   "name": "python3"
  },
  "language_info": {
   "codemirror_mode": {
    "name": "ipython",
    "version": 3
   },
   "file_extension": ".py",
   "mimetype": "text/x-python",
   "name": "python",
   "nbconvert_exporter": "python",
   "pygments_lexer": "ipython3",
   "version": "3.12.8"
  }
 },
 "nbformat": 4,
 "nbformat_minor": 2
}
