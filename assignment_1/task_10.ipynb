{
 "cells": [
  {
   "cell_type": "markdown",
   "metadata": {},
   "source": [
    "# $ \\text{Т.10} $\n",
    "\n",
    "$ \\text{При снятии показаний измерительного прибора} \\\\ \\text{ десятые доли деления шкалы прибора оцениваются \"на глаз\" наблюдателем.} \\\\ \\text{ Количества цифр 0, 1, 2, ..., 9, записанных наблюдателем} \\\\ \\text{ в качестве десятых долей при 100 независимых измерениях,} \\\\ \\text{ равны 5, 8, 6, 12, 14, 18, 11, 6, 13, 7 соответственно.} $"
   ]
  },
  {
   "cell_type": "markdown",
   "metadata": {},
   "source": [
    "### $$ \\alpha = 0.05 $$"
   ]
  },
  {
   "cell_type": "code",
   "execution_count": 1,
   "metadata": {},
   "outputs": [],
   "source": [
    "from rich.console import Console\n",
    "from rich.table import Table\n",
    "from rich.panel import Panel\n",
    "from rich.style import Style\n",
    "from rich.text import Text\n",
    "\n",
    "from scipy.special import kolmogorov\n",
    "import numpy as np\n",
    "import math\n",
    "\n",
    "console = Console()\n",
    "table = Table()"
   ]
  },
  {
   "cell_type": "code",
   "execution_count": 2,
   "metadata": {},
   "outputs": [],
   "source": [
    "def F_norm(x, mean, sigma):\n",
    "    \"\"\"Функция нормального распределения.\"\"\"\n",
    "    return 0.5 * (1 + math.erf((x - mean)/(np.sqrt(2) * sigma)))\n",
    "\n",
    "# Размер выборки\n",
    "N = 100\n",
    "\n",
    "m = np.array([5, 8, 6, 12, 14, 18, 11, 6, 13, 7])"
   ]
  },
  {
   "cell_type": "markdown",
   "metadata": {},
   "source": [
    "## $ \\text{a) Проверить гипотезу о согласии данных} \\\\ \\text{ с законом равномерного распределения} \\\\ \\text{ с помощью Критерия Колмогорова.} \\\\ \\text{ Сравнить результаты с} \\\\ \\text{ применением критерия } \\chi^2 \\text{.} $"
   ]
  },
  {
   "cell_type": "markdown",
   "metadata": {},
   "source": [
    "$H_0: \\text{все цифры равновероятны} $\n",
    "\n",
    "$H_1: \\overline H_0 $"
   ]
  },
  {
   "cell_type": "markdown",
   "metadata": {},
   "source": [
    "### $ \\text{По критерию согласия Колмогорова} \\\\ \\text{ (считая распределение непрерывным):} $\n",
    "\n",
    "$$\n",
    "\\tilde{\\Delta} = \\sqrt{n} \\cdot \\sup_{x \\in \\mathbb{R}}{|\\tilde {F}(x) - F(x)|}\n",
    "$$"
   ]
  },
  {
   "cell_type": "code",
   "execution_count": 3,
   "metadata": {},
   "outputs": [],
   "source": [
    "F_emp = np.array([sum(m[:i]) for i in range(len(m)+1)]) / N\n",
    "F_th = np.arange(10) / 10\n",
    "\n",
    "delta = np.sqrt(N) * np.max([max(np.abs(F_th[i] - F_emp[i]),\n",
    "                                 np.abs(F_th[i] - F_emp[i+1])) for i in range(F_th.size)])\n",
    "\n",
    "p_value = kolmogorov(delta)"
   ]
  },
  {
   "cell_type": "markdown",
   "metadata": {},
   "source": [
    "$$\n",
    "p_{value}: P(\\Delta \\geq \\tilde{\\Delta} | H_0)  = 1 - K(\\tilde{\\Delta}), где\n",
    "$$\n",
    "\n",
    "$$\n",
    "K(x) = 1 + 2 \\sum_{k=1}^{\\infty}(-1)^k \\cdot e ^ {-2k^2 x^2} \\text{- функция распределения Колмогорова}\n",
    "$$"
   ]
  },
  {
   "cell_type": "code",
   "execution_count": 4,
   "metadata": {},
   "outputs": [
    {
     "data": {
      "text/html": [
       "<pre style=\"white-space:pre;overflow-x:auto;line-height:normal;font-family:Menlo,'DejaVu Sans Mono',consolas,'Courier New',monospace\">╭─ p-value по критерию Колмогорова ─╮                                                                              \n",
       "│ <span style=\"font-weight: bold\">p-value: 0.039681879538114355    </span> │                                                                              \n",
       "╰───────────────────────────────────╯                                                                              \n",
       "</pre>\n"
      ],
      "text/plain": [
       "╭─ p-value по критерию Колмогорова ─╮                                                                              \n",
       "│ \u001b[1mp-value: 0.039681879538114355    \u001b[0m │                                                                              \n",
       "╰───────────────────────────────────╯                                                                              \n"
      ]
     },
     "metadata": {},
     "output_type": "display_data"
    }
   ],
   "source": [
    "console.print(Panel(Text(f\"p-value: {p_value}\",\n",
    "                         style=\"bold\"),\n",
    "                    title=\"p-value по критерию Колмогорова\"),\n",
    "                    justify=\"left\")"
   ]
  },
  {
   "cell_type": "markdown",
   "metadata": {},
   "source": [
    "$ p_{value} < \\alpha \\implies H_0 \\text{ отвергается}$"
   ]
  },
  {
   "cell_type": "markdown",
   "metadata": {},
   "source": [
    "$ \\text{При критерии } \\chi^2 \\text{оснований отвергать } H_0 \\text{ не было,} \\\\ \\text{ так как } p_{value} \\approx 0.059 \\text{, однако более мощный} \\\\ \\text{ критерий Колмогорова отвергает её.} $\n",
    "\n",
    "$ \\text{Можно утверждать, что критерием Колмогорова} \\\\ \\text{ обнаружено систематическое отклонение.} $"
   ]
  },
  {
   "cell_type": "markdown",
   "metadata": {},
   "source": [
    "## $ \\text{b) Проверить гипотезу о согласии данных} \\\\ \\text{ с законом нормального распределения } \\\\ \\text{ с помощью Критерия Колмогорова.} \\\\ \\text{ Сравнить результаты с} \\\\ \\text{ применением критерия } \\chi^2 \\text{.} $"
   ]
  },
  {
   "cell_type": "markdown",
   "metadata": {},
   "source": [
    "$H_0: \\xi \\rightsquigarrow  N(\\alpha, \\sigma^2) $\n",
    "\n",
    "$H_1: \\overline H_0 $"
   ]
  },
  {
   "cell_type": "markdown",
   "metadata": {},
   "source": [
    "#### $ \\text{(честное) Вычисление } \\Delta \\text{ по О.М.П.Г.} $"
   ]
  },
  {
   "cell_type": "code",
   "execution_count": 5,
   "metadata": {},
   "outputs": [],
   "source": [
    "# Полуинтервалы полной группы событий\n",
    "segments = np.array([(-np.inf, 1)] + [(i, i + 1) for i in range(1, 9)] + [(9, np.inf)])\n",
    "\n",
    "# Оригинальная выборка\n",
    "sample = np.repeat(np.arange(len(m)), m)\n",
    "\n",
    "# Оценка мат. ожидания\n",
    "alpha = np.mean(sample)\n",
    "\n",
    "# Оценка корня дисперсии (несмещенная)\n",
    "sigma = np.sqrt(np.var(sample) * N/(N-1))\n",
    "\n",
    "# Функция нормального распределения по выборке\n",
    "def F_norm_wave(x): return F_norm(x, alpha, sigma)\n",
    "\n",
    "# Вероятность каждого события\n",
    "P = [F_norm_wave(i[1]) - F_norm_wave(i[0]) for i in segments]\n",
    "\n",
    "delta = sum((N * P[i] - m[i]) ** 2 / (N * P[i]) for i in range(10))"
   ]
  },
  {
   "cell_type": "code",
   "execution_count": 6,
   "metadata": {},
   "outputs": [
    {
     "data": {
      "text/html": [
       "<pre style=\"white-space:pre;overflow-x:auto;line-height:normal;font-family:Menlo,'DejaVu Sans Mono',consolas,'Courier New',monospace\">┏━━━━━━━━┳━━━━━━━━━━━┳━━━━━━━━┳━━━━━━━━┳━━━━━━━━┳━━━━━━━━┳━━━━━━━━┳━━━━━━━━┳━━━━━━━━┳━━━━━━━━┳━━━━━━━━━━┓          \n",
       "┃<span style=\"font-weight: bold\"> i      </span>┃<span style=\"font-weight: bold\"> 0         </span>┃<span style=\"font-weight: bold\"> 1      </span>┃<span style=\"font-weight: bold\"> 2      </span>┃<span style=\"font-weight: bold\"> 3      </span>┃<span style=\"font-weight: bold\"> 4      </span>┃<span style=\"font-weight: bold\"> 5      </span>┃<span style=\"font-weight: bold\"> 6      </span>┃<span style=\"font-weight: bold\"> 7      </span>┃<span style=\"font-weight: bold\"> 8      </span>┃<span style=\"font-weight: bold\"> 9        </span>┃          \n",
       "┡━━━━━━━━╇━━━━━━━━━━━╇━━━━━━━━╇━━━━━━━━╇━━━━━━━━╇━━━━━━━━╇━━━━━━━━╇━━━━━━━━╇━━━━━━━━╇━━━━━━━━╇━━━━━━━━━━┩          \n",
       "│ m_i    │ 5         │ 8      │ 6      │ 12     │ 14     │ 18     │ 11     │ 6      │ 13     │ 7        │          \n",
       "│<span style=\"color: #808080; text-decoration-color: #808080\"> ----   </span>│<span style=\"color: #808080; text-decoration-color: #808080\"> ----      </span>│<span style=\"color: #808080; text-decoration-color: #808080\"> ----   </span>│<span style=\"color: #808080; text-decoration-color: #808080\"> ----   </span>│<span style=\"color: #808080; text-decoration-color: #808080\"> ----   </span>│<span style=\"color: #808080; text-decoration-color: #808080\"> ----   </span>│<span style=\"color: #808080; text-decoration-color: #808080\"> ----   </span>│<span style=\"color: #808080; text-decoration-color: #808080\"> ----   </span>│<span style=\"color: #808080; text-decoration-color: #808080\"> ----   </span>│<span style=\"color: #808080; text-decoration-color: #808080\"> ----   </span>│<span style=\"color: #808080; text-decoration-color: #808080\"> ----     </span>│          \n",
       "│ П.Г.С. │ (-inf; 1) │ [1; 2) │ [2; 3) │ [3; 4) │ [4; 5) │ [5; 6) │ [6; 7) │ [7; 8) │ [8; 9) │ (9; inf) │          \n",
       "│<span style=\"color: #808080; text-decoration-color: #808080\"> ----   </span>│<span style=\"color: #808080; text-decoration-color: #808080\"> ----      </span>│<span style=\"color: #808080; text-decoration-color: #808080\"> ----   </span>│<span style=\"color: #808080; text-decoration-color: #808080\"> ----   </span>│<span style=\"color: #808080; text-decoration-color: #808080\"> ----   </span>│<span style=\"color: #808080; text-decoration-color: #808080\"> ----   </span>│<span style=\"color: #808080; text-decoration-color: #808080\"> ----   </span>│<span style=\"color: #808080; text-decoration-color: #808080\"> ----   </span>│<span style=\"color: #808080; text-decoration-color: #808080\"> ----   </span>│<span style=\"color: #808080; text-decoration-color: #808080\"> ----   </span>│<span style=\"color: #808080; text-decoration-color: #808080\"> ----     </span>│          \n",
       "│ nP_i   │ 6.72      │ 6.85   │ 10.54  │ 13.88  │ 15.65  │ 15.10  │ 12.47  │ 8.81   │ 5.33   │ 4.65     │          \n",
       "└────────┴───────────┴────────┴────────┴────────┴────────┴────────┴────────┴────────┴────────┴──────────┘          \n",
       "╭──── Δ по О.М.П.Г. ─────╮                                                                                         \n",
       "│ <span style=\"font-weight: bold\">Δ = 16.871067048068763</span> │                                                                                         \n",
       "╰────────────────────────╯                                                                                         \n",
       "</pre>\n"
      ],
      "text/plain": [
       "┏━━━━━━━━┳━━━━━━━━━━━┳━━━━━━━━┳━━━━━━━━┳━━━━━━━━┳━━━━━━━━┳━━━━━━━━┳━━━━━━━━┳━━━━━━━━┳━━━━━━━━┳━━━━━━━━━━┓          \n",
       "┃\u001b[1m \u001b[0m\u001b[1mi     \u001b[0m\u001b[1m \u001b[0m┃\u001b[1m \u001b[0m\u001b[1m0        \u001b[0m\u001b[1m \u001b[0m┃\u001b[1m \u001b[0m\u001b[1m1     \u001b[0m\u001b[1m \u001b[0m┃\u001b[1m \u001b[0m\u001b[1m2     \u001b[0m\u001b[1m \u001b[0m┃\u001b[1m \u001b[0m\u001b[1m3     \u001b[0m\u001b[1m \u001b[0m┃\u001b[1m \u001b[0m\u001b[1m4     \u001b[0m\u001b[1m \u001b[0m┃\u001b[1m \u001b[0m\u001b[1m5     \u001b[0m\u001b[1m \u001b[0m┃\u001b[1m \u001b[0m\u001b[1m6     \u001b[0m\u001b[1m \u001b[0m┃\u001b[1m \u001b[0m\u001b[1m7     \u001b[0m\u001b[1m \u001b[0m┃\u001b[1m \u001b[0m\u001b[1m8     \u001b[0m\u001b[1m \u001b[0m┃\u001b[1m \u001b[0m\u001b[1m9       \u001b[0m\u001b[1m \u001b[0m┃          \n",
       "┡━━━━━━━━╇━━━━━━━━━━━╇━━━━━━━━╇━━━━━━━━╇━━━━━━━━╇━━━━━━━━╇━━━━━━━━╇━━━━━━━━╇━━━━━━━━╇━━━━━━━━╇━━━━━━━━━━┩          \n",
       "│ m_i    │ 5         │ 8      │ 6      │ 12     │ 14     │ 18     │ 11     │ 6      │ 13     │ 7        │          \n",
       "│\u001b[90m \u001b[0m\u001b[90m----  \u001b[0m\u001b[90m \u001b[0m│\u001b[90m \u001b[0m\u001b[90m----     \u001b[0m\u001b[90m \u001b[0m│\u001b[90m \u001b[0m\u001b[90m----  \u001b[0m\u001b[90m \u001b[0m│\u001b[90m \u001b[0m\u001b[90m----  \u001b[0m\u001b[90m \u001b[0m│\u001b[90m \u001b[0m\u001b[90m----  \u001b[0m\u001b[90m \u001b[0m│\u001b[90m \u001b[0m\u001b[90m----  \u001b[0m\u001b[90m \u001b[0m│\u001b[90m \u001b[0m\u001b[90m----  \u001b[0m\u001b[90m \u001b[0m│\u001b[90m \u001b[0m\u001b[90m----  \u001b[0m\u001b[90m \u001b[0m│\u001b[90m \u001b[0m\u001b[90m----  \u001b[0m\u001b[90m \u001b[0m│\u001b[90m \u001b[0m\u001b[90m----  \u001b[0m\u001b[90m \u001b[0m│\u001b[90m \u001b[0m\u001b[90m----    \u001b[0m\u001b[90m \u001b[0m│          \n",
       "│ П.Г.С. │ (-inf; 1) │ [1; 2) │ [2; 3) │ [3; 4) │ [4; 5) │ [5; 6) │ [6; 7) │ [7; 8) │ [8; 9) │ (9; inf) │          \n",
       "│\u001b[90m \u001b[0m\u001b[90m----  \u001b[0m\u001b[90m \u001b[0m│\u001b[90m \u001b[0m\u001b[90m----     \u001b[0m\u001b[90m \u001b[0m│\u001b[90m \u001b[0m\u001b[90m----  \u001b[0m\u001b[90m \u001b[0m│\u001b[90m \u001b[0m\u001b[90m----  \u001b[0m\u001b[90m \u001b[0m│\u001b[90m \u001b[0m\u001b[90m----  \u001b[0m\u001b[90m \u001b[0m│\u001b[90m \u001b[0m\u001b[90m----  \u001b[0m\u001b[90m \u001b[0m│\u001b[90m \u001b[0m\u001b[90m----  \u001b[0m\u001b[90m \u001b[0m│\u001b[90m \u001b[0m\u001b[90m----  \u001b[0m\u001b[90m \u001b[0m│\u001b[90m \u001b[0m\u001b[90m----  \u001b[0m\u001b[90m \u001b[0m│\u001b[90m \u001b[0m\u001b[90m----  \u001b[0m\u001b[90m \u001b[0m│\u001b[90m \u001b[0m\u001b[90m----    \u001b[0m\u001b[90m \u001b[0m│          \n",
       "│ nP_i   │ 6.72      │ 6.85   │ 10.54  │ 13.88  │ 15.65  │ 15.10  │ 12.47  │ 8.81   │ 5.33   │ 4.65     │          \n",
       "└────────┴───────────┴────────┴────────┴────────┴────────┴────────┴────────┴────────┴────────┴──────────┘          \n",
       "╭──── Δ по О.М.П.Г. ─────╮                                                                                         \n",
       "│ \u001b[1mΔ = 16.871067048068763\u001b[0m │                                                                                         \n",
       "╰────────────────────────╯                                                                                         \n"
      ]
     },
     "metadata": {},
     "output_type": "display_data"
    }
   ],
   "source": [
    "for i in range(-1, 9+1):\n",
    "  table.add_column(f\"{i}\" if i >= 0 else \"i\")\n",
    "\n",
    "table.add_row(\"m_i\", *[f\"{m_i}\" for m_i in m])\n",
    "\n",
    "table.add_row(*([\"----\"] * len(table.columns)), style=Style(color=\"bright_black\"))\n",
    "\n",
    "segments_formatted = [\n",
    "    f\"({seg[0]:.0f}; {seg[1]:.0f})\" if i == 0 or i == len(segments) - 1 else f\"[{seg[0]:.0f}; {seg[1]:.0f})\"\n",
    "    for i, seg in enumerate(segments)\n",
    "]\n",
    "\n",
    "table.add_row(\"П.Г.С.\", *segments_formatted)\n",
    "\n",
    "table.add_row(*([\"----\"] * len(table.columns)), style=Style(color=\"bright_black\"))\n",
    "\n",
    "table.add_row(\"nP_i\", *[f\"{(p * N):.2f}\" for p in P])\n",
    "\n",
    "console.print(table, Panel(Text(f\"Δ = {delta}\", style=\"bold\"),\n",
    "                    title=\"Δ по О.М.П.Г.\"), justify=\"left\")\n"
   ]
  },
  {
   "cell_type": "markdown",
   "metadata": {},
   "source": [
    "### $ \\text{По критерию Колмогорова (для сложной } H_0 \\text{),} \\\\ \\text{ используя параметрический bootstrap:} $\n",
    "\n",
    "$\\vec{x}_n \\rightarrow \\tilde{\\vec{\\theta}} \\text{: любой метод оценки (хотя бы состоятельный)} $\n",
    "\n",
    "$ \\xi \\sim F(x, \\tilde{\\vec{\\theta}}) $\n",
    "\n",
    "$ M \\text{ - кол-во повторений bootstrap} $\n",
    "\n",
    "$ \\text{1) } \\vec{x}_n^* \\rightarrow \\tilde{\\vec{\\theta}}^* \\rightarrow \\\\ \\Delta_1^* = \\sqrt{n} \\sup_{x \\in \\mathbb{R}} | \\tilde{F}^*(x) - F(x, \\tilde{\\vec{\\theta}}^*) | $\n",
    "\n",
    "$ ... $\n",
    "\n",
    "$ \\text{M) } \\Delta_1^M = ...$\n",
    "\n",
    "$ \\text{вариационный ряд: } \\Delta_{(1)}^* \\dots \\Delta_{(M)}^*$\n",
    "\n",
    "$ \\text{p-value:} \\frac{k}{M} \\text{ , где } k \\text{ - число элементов: } \\Delta_{(i)}^* \\geq \\tilde{\\Delta} = \\sqrt{n} \\sup_{x \\in \\mathbb{R}} | \\tilde{F}(x) - F(x, \\tilde{\\theta}) | $"
   ]
  },
  {
   "cell_type": "code",
   "execution_count": 7,
   "metadata": {},
   "outputs": [],
   "source": [
    "# Количество повторений bootstrap\n",
    "bootstrap_iterations = 50_000"
   ]
  },
  {
   "cell_type": "code",
   "execution_count": 8,
   "metadata": {},
   "outputs": [],
   "source": [
    "bootstrap_delta = []\n",
    "\n",
    "x = np.arange(10)\n",
    "delta_wave = np.sqrt(N) * np.max([max(np.abs(F_norm_wave(x[i]) - F_emp[i]),\n",
    "                                      np.abs(F_norm_wave(x[i]) - F_emp[i+1])) for i in range(10)])\n",
    "\n",
    "for _ in range(bootstrap_iterations):\n",
    "    # Случайная выборка, соотв норм. распределению с параметрами из О.М.П.Г.\n",
    "    random_sample = np.array(sorted(np.random.normal(alpha, sigma, N)))\n",
    "\n",
    "    # Оценка мат. ожидания по случайной подвыборке (bootstrap)\n",
    "    alpha_bootstrap = random_sample.mean()\n",
    "\n",
    "    # Оценка корня дисперсии по случайной подвыборке (bootstrap)\n",
    "    sigma_bootstrap = np.sqrt(random_sample.var() * N/(N-1))\n",
    "\n",
    "    F_bootstrap_emp = [i / N for i in range(N + 1)]\n",
    "\n",
    "    # Функция нормального распределения по случайной подвыборке (bootstrap)\n",
    "    def F_bootstrap_wave(j):\n",
    "      return F_norm(random_sample[j], alpha_bootstrap, sigma_bootstrap)\n",
    "    \n",
    "    sup = np.sqrt(N) * np.max([max(np.abs(F_bootstrap_wave(j) - F_bootstrap_emp[j]), \\\n",
    "                                     np.abs(F_bootstrap_wave(j) - F_bootstrap_emp[j+1])) \\\n",
    "                                        for j in range(len(random_sample))])\n",
    "\n",
    "    bootstrap_delta.append(sup)\n",
    "\n",
    "bootstrap_delta = np.array(bootstrap_delta)\n",
    "\n",
    "p_value = len(bootstrap_delta[bootstrap_delta >= delta_wave]) / bootstrap_iterations"
   ]
  },
  {
   "cell_type": "code",
   "execution_count": 9,
   "metadata": {},
   "outputs": [
    {
     "data": {
      "text/html": [
       "<pre style=\"white-space:pre;overflow-x:auto;line-height:normal;font-family:Menlo,'DejaVu Sans Mono',consolas,'Courier New',monospace\">╭─ p-value по критерию Колмогорова ─╮                                                                              \n",
       "│ <span style=\"font-weight: bold\">p-value: 0.01518                 </span> │                                                                              \n",
       "╰───────────────────────────────────╯                                                                              \n",
       "</pre>\n"
      ],
      "text/plain": [
       "╭─ p-value по критерию Колмогорова ─╮                                                                              \n",
       "│ \u001b[1mp-value: 0.01518                 \u001b[0m │                                                                              \n",
       "╰───────────────────────────────────╯                                                                              \n"
      ]
     },
     "metadata": {},
     "output_type": "display_data"
    }
   ],
   "source": [
    "console.print(Panel(Text(f\"p-value: {p_value}\",\n",
    "                         style=\"bold\"),\n",
    "                    title=\"p-value по критерию Колмогорова\"),\n",
    "                    justify=\"left\")"
   ]
  },
  {
   "cell_type": "markdown",
   "metadata": {},
   "source": [
    "$ p_{value} < \\alpha \\implies H_0 \\text{ отвергается}$"
   ]
  },
  {
   "cell_type": "markdown",
   "metadata": {},
   "source": [
    "$ \\text{При критерии } \\chi^2 \\text{ } H_0 \\text{ также отвергалась, так как } \\\\ p_{value} \\approx 0.01825 \\text{ и более мощный критерий Колмогорова } \\\\ \\text{ отвергает её с меньшей мерой значимости.} $"
   ]
  }
 ],
 "metadata": {
  "kernelspec": {
   "display_name": ".venv",
   "language": "python",
   "name": "python3"
  },
  "language_info": {
   "codemirror_mode": {
    "name": "ipython",
    "version": 3
   },
   "file_extension": ".py",
   "mimetype": "text/x-python",
   "name": "python",
   "nbconvert_exporter": "python",
   "pygments_lexer": "ipython3",
   "version": "3.12.8"
  }
 },
 "nbformat": 4,
 "nbformat_minor": 2
}
