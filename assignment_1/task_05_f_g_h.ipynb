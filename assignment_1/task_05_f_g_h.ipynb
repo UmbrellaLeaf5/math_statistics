{
 "cells": [
  {
   "cell_type": "markdown",
   "metadata": {},
   "source": [
    "# $ \\text{Т.5} $\n",
    "\n",
    "$$ \\text{Случайная величина распределена равномерно на отрезке } [\\theta, 2\\theta] \\text{.}$$"
   ]
  },
  {
   "cell_type": "code",
   "execution_count": 4,
   "metadata": {},
   "outputs": [],
   "source": [
    "from rich.console import Console\n",
    "from rich.table import Table\n",
    "from rich.panel import Panel\n",
    "from rich.text import Text\n",
    "\n",
    "import numpy as np\n",
    "\n",
    "console = Console()\n",
    "table = Table()"
   ]
  },
  {
   "cell_type": "markdown",
   "metadata": {},
   "source": [
    "## $ \\text{f) Сгенерировать выборку объёма } n = 100 \\\\ \\text{ для некоторого значения параметра } \\theta \\text{.} \\\\ \\text{ Вычислите указанные выше (по задаче)} \\\\ \\text{ доверительные интервалы для } \\beta = 0.95 \\text{.}$"
   ]
  },
  {
   "cell_type": "code",
   "execution_count": 5,
   "metadata": {},
   "outputs": [],
   "source": [
    "def p(x: float, theta: float) -> float:\n",
    "    \"\"\"Закон распределения.\"\"\"\n",
    "    return  1 / theta if (2 * theta >= x >= theta) else 0\n",
    "\n",
    "def F(x: float, theta: float) -> float:\n",
    "    \"\"\"Функция распределения.\"\"\"\n",
    "    return x/theta - 1 if (2 * theta >= x >= theta) else 0\n",
    "\n",
    "def InverseF(y: float, theta: float) -> float:\n",
    "    \"\"\"Обратная к функции распределения.\"\"\"\n",
    "    return theta * (y + 1)\n",
    "\n",
    "# Размер выборки\n",
    "N = 100\n",
    "\n",
    "# Доверительная информация\n",
    "beta = 0.95\n",
    "\n",
    "# Некоторое значение параметра тета\n",
    "theta = 1000\n",
    "\n",
    "confidence_intervals: dict[str, int] = {}"
   ]
  },
  {
   "cell_type": "code",
   "execution_count": 6,
   "metadata": {},
   "outputs": [],
   "source": [
    "rng = np.random.default_rng()\n",
    "random_numbers = rng.random(size=N)\n",
    "\n",
    "# Выборка\n",
    "sample = np.array([InverseF(y, theta) for y in random_numbers])"
   ]
  },
  {
   "cell_type": "code",
   "execution_count": 7,
   "metadata": {},
   "outputs": [
    {
     "data": {
      "text/html": [
       "<pre style=\"white-space:pre;overflow-x:auto;line-height:normal;font-family:Menlo,'DejaVu Sans Mono',consolas,'Courier New',monospace\">┏━━━━━━━━━━━━━━━━━━━━━━━━━━━━━━━━━━━━━━━━━━━━━━━━━━━━━━━━━━━┓\n",
       "┃<span style=\"font-weight: bold\">                          Выборка                          </span>┃\n",
       "┡━━━━━━━━━━━━━━━━━━━━━━━━━━━━━━━━━━━━━━━━━━━━━━━━━━━━━━━━━━━┩\n",
       "│ 1540.0906528 │ 1297.9252797 │ 1904.4144414 │ 1971.3071867 │\n",
       "│ 1297.9252797 │ 1904.4144414 │ 1971.3071867 │ 1789.1606298 │\n",
       "│ 1904.4144414 │ 1971.3071867 │ 1789.1606298 │ 1211.9407385 │\n",
       "│ 1971.3071867 │ 1789.1606298 │ 1211.9407385 │ 1219.5700115 │\n",
       "│ 1789.1606298 │ 1211.9407385 │ 1219.5700115 │ 1461.3684534 │\n",
       "│ 1211.9407385 │ 1219.5700115 │ 1461.3684534 │ 1674.5970021 │\n",
       "│ 1219.5700115 │ 1461.3684534 │ 1674.5970021 │ 1112.2922368 │\n",
       "│ 1461.3684534 │ 1674.5970021 │ 1112.2922368 │ 1504.7787789 │\n",
       "│ 1674.5970021 │ 1112.2922368 │ 1504.7787789 │ 1053.5163265 │\n",
       "│ 1112.2922368 │ 1504.7787789 │ 1053.5163265 │ 1303.4110481 │\n",
       "│ 1504.7787789 │ 1053.5163265 │ 1303.4110481 │ 1912.3699896 │\n",
       "│ 1053.5163265 │ 1303.4110481 │ 1912.3699896 │ 1298.8555692 │\n",
       "│ 1303.4110481 │ 1912.3699896 │ 1298.8555692 │ 1372.9605579 │\n",
       "│ 1912.3699896 │ 1298.8555692 │ 1372.9605579 │ 1713.1353234 │\n",
       "│ 1298.8555692 │ 1372.9605579 │ 1713.1353234 │ 1705.0094046 │\n",
       "│ 1372.9605579 │ 1713.1353234 │ 1705.0094046 │ 1771.0530159 │\n",
       "│ 1713.1353234 │ 1705.0094046 │ 1771.0530159 │ 1274.1006132 │\n",
       "│ 1705.0094046 │ 1771.0530159 │ 1274.1006132 │ 1848.3833288 │\n",
       "│ 1771.0530159 │ 1274.1006132 │ 1848.3833288 │ 1990.0510939 │\n",
       "│ 1274.1006132 │ 1848.3833288 │ 1990.0510939 │ 1681.3194132 │\n",
       "│ 1848.3833288 │ 1990.0510939 │ 1681.3194132 │ 1907.7611680 │\n",
       "│ 1990.0510939 │ 1681.3194132 │ 1907.7611680 │ 1831.8311317 │\n",
       "│ 1681.3194132 │ 1907.7611680 │ 1831.8311317 │ 1538.3966207 │\n",
       "│ 1907.7611680 │ 1831.8311317 │ 1538.3966207 │ 1008.6540811 │\n",
       "│ 1831.8311317 │ 1538.3966207 │ 1008.6540811 │ 1347.7084269 │\n",
       "└───────────────────────────────────────────────────────────┘\n",
       "</pre>\n"
      ],
      "text/plain": [
       "┏━━━━━━━━━━━━━━━━━━━━━━━━━━━━━━━━━━━━━━━━━━━━━━━━━━━━━━━━━━━┓\n",
       "┃\u001b[1m \u001b[0m\u001b[1m                         Выборка                         \u001b[0m\u001b[1m \u001b[0m┃\n",
       "┡━━━━━━━━━━━━━━━━━━━━━━━━━━━━━━━━━━━━━━━━━━━━━━━━━━━━━━━━━━━┩\n",
       "│ 1540.0906528 │ 1297.9252797 │ 1904.4144414 │ 1971.3071867 │\n",
       "│ 1297.9252797 │ 1904.4144414 │ 1971.3071867 │ 1789.1606298 │\n",
       "│ 1904.4144414 │ 1971.3071867 │ 1789.1606298 │ 1211.9407385 │\n",
       "│ 1971.3071867 │ 1789.1606298 │ 1211.9407385 │ 1219.5700115 │\n",
       "│ 1789.1606298 │ 1211.9407385 │ 1219.5700115 │ 1461.3684534 │\n",
       "│ 1211.9407385 │ 1219.5700115 │ 1461.3684534 │ 1674.5970021 │\n",
       "│ 1219.5700115 │ 1461.3684534 │ 1674.5970021 │ 1112.2922368 │\n",
       "│ 1461.3684534 │ 1674.5970021 │ 1112.2922368 │ 1504.7787789 │\n",
       "│ 1674.5970021 │ 1112.2922368 │ 1504.7787789 │ 1053.5163265 │\n",
       "│ 1112.2922368 │ 1504.7787789 │ 1053.5163265 │ 1303.4110481 │\n",
       "│ 1504.7787789 │ 1053.5163265 │ 1303.4110481 │ 1912.3699896 │\n",
       "│ 1053.5163265 │ 1303.4110481 │ 1912.3699896 │ 1298.8555692 │\n",
       "│ 1303.4110481 │ 1912.3699896 │ 1298.8555692 │ 1372.9605579 │\n",
       "│ 1912.3699896 │ 1298.8555692 │ 1372.9605579 │ 1713.1353234 │\n",
       "│ 1298.8555692 │ 1372.9605579 │ 1713.1353234 │ 1705.0094046 │\n",
       "│ 1372.9605579 │ 1713.1353234 │ 1705.0094046 │ 1771.0530159 │\n",
       "│ 1713.1353234 │ 1705.0094046 │ 1771.0530159 │ 1274.1006132 │\n",
       "│ 1705.0094046 │ 1771.0530159 │ 1274.1006132 │ 1848.3833288 │\n",
       "│ 1771.0530159 │ 1274.1006132 │ 1848.3833288 │ 1990.0510939 │\n",
       "│ 1274.1006132 │ 1848.3833288 │ 1990.0510939 │ 1681.3194132 │\n",
       "│ 1848.3833288 │ 1990.0510939 │ 1681.3194132 │ 1907.7611680 │\n",
       "│ 1990.0510939 │ 1681.3194132 │ 1907.7611680 │ 1831.8311317 │\n",
       "│ 1681.3194132 │ 1907.7611680 │ 1831.8311317 │ 1538.3966207 │\n",
       "│ 1907.7611680 │ 1831.8311317 │ 1538.3966207 │ 1008.6540811 │\n",
       "│ 1831.8311317 │ 1538.3966207 │ 1008.6540811 │ 1347.7084269 │\n",
       "└───────────────────────────────────────────────────────────┘\n"
      ]
     },
     "metadata": {},
     "output_type": "display_data"
    }
   ],
   "source": [
    "table.add_column(header=\"Выборка\", justify=\"center\")\n",
    "\n",
    "for i in range(len(sample) // 4):\n",
    "    s = sample[i]\n",
    "    s_1 = sample[i+1]\n",
    "    s_2 = sample[i+2]\n",
    "    s_3 = sample[i+3]\n",
    "\n",
    "    table.add_row(f\"{s:.7f} │ {s_1:.7f} │ {s_2:.7f} │ {s_3:.7f}\")\n",
    "\n",
    "console.print(table)"
   ]
  },
  {
   "cell_type": "markdown",
   "metadata": {},
   "source": [
    "$$ \\text{Точный доверительный интервал}: $$\n",
    "\n",
    "$$\n",
    "P(\\frac{\\max_{i = 1,n} x_i}{1 + \\sqrt[n]{\\frac{1 + \\beta}{2}}} < \\theta < \\frac{\\max_{i = 1,n} x_i}{1 + \\sqrt[n]{\\frac{1 - \\beta}{2}}})=\\beta\n",
    "$$"
   ]
  },
  {
   "cell_type": "code",
   "execution_count": 8,
   "metadata": {},
   "outputs": [
    {
     "data": {
      "text/html": [
       "<pre style=\"white-space:pre;overflow-x:auto;line-height:normal;font-family:Menlo,'DejaVu Sans Mono',consolas,'Courier New',monospace\">╭────── Точный доверительный интервал ───────╮                                                                     \n",
       "│ <span style=\"font-weight: bold\">995.1515062757416 &lt; θ &lt; 1013.3761125488007</span> │                                                                     \n",
       "│ <span style=\"font-weight: bold\">        l = 18.22460627305918             </span> │                                                                     \n",
       "╰────────────────────────────────────────────╯                                                                     \n",
       "</pre>\n"
      ],
      "text/plain": [
       "╭────── Точный доверительный интервал ───────╮                                                                     \n",
       "│ \u001b[1m995.1515062757416 < θ < 1013.3761125488007\u001b[0m │                                                                     \n",
       "│ \u001b[1m        \u001b[0m\u001b[1ml = 18.22460627305918\u001b[0m\u001b[1m             \u001b[0m │                                                                     \n",
       "╰────────────────────────────────────────────╯                                                                     \n"
      ]
     },
     "metadata": {},
     "output_type": "display_data"
    }
   ],
   "source": [
    "lower_bound = np.max(sample)/(1 + ((1 + beta) / 2) ** (1 / N))\n",
    "upper_bound = np.max(sample)/(1 + ((1 - beta) / 2) ** (1 / N))\n",
    "\n",
    "console.print(Panel(Text(f\"{lower_bound} < θ < {upper_bound}\\n\\tl = {upper_bound - lower_bound}\",\n",
    "                         style=\"bold\"),\n",
    "                    title=\"Точный доверительный интервал\"),\n",
    "                    justify=\"left\")\n",
    "\n",
    "confidence_intervals[\"Точный доверительный интервал\"] = upper_bound - lower_bound"
   ]
  },
  {
   "cell_type": "markdown",
   "metadata": {},
   "source": [
    "$$ \\text{Асимптотический доверительный интервал (О.М.М.):} $$\n",
    "\n",
    "$$ P \\left( \\frac{2}{3} \\overline{x} - \\frac{3.92 \\sqrt{S^2(n-1)}}{3n} < \\theta < \\frac{2}{3} \\overline{x} + \\frac{3.92 \\sqrt{S^2(n-1)}}{3n} \\right) = \\beta $$"
   ]
  },
  {
   "cell_type": "code",
   "execution_count": 9,
   "metadata": {},
   "outputs": [
    {
     "data": {
      "text/html": [
       "<pre style=\"white-space:pre;overflow-x:auto;line-height:normal;font-family:Menlo,'DejaVu Sans Mono',consolas,'Courier New',monospace\">╭─ Асимптотический доверительный интервал (О.М.М.) ─╮                                                              \n",
       "│ <span style=\"font-weight: bold\">973.0201275087247 &lt; θ &lt; 1048.8899673333806       </span> │                                                              \n",
       "│ <span style=\"font-weight: bold\">        l = 75.86983982465586                    </span> │                                                              \n",
       "╰───────────────────────────────────────────────────╯                                                              \n",
       "</pre>\n"
      ],
      "text/plain": [
       "╭─ Асимптотический доверительный интервал (О.М.М.) ─╮                                                              \n",
       "│ \u001b[1m973.0201275087247 < θ < 1048.8899673333806       \u001b[0m │                                                              \n",
       "│ \u001b[1m        \u001b[0m\u001b[1ml = 75.86983982465586\u001b[0m\u001b[1m                    \u001b[0m │                                                              \n",
       "╰───────────────────────────────────────────────────╯                                                              \n"
      ]
     },
     "metadata": {},
     "output_type": "display_data"
    }
   ],
   "source": [
    "S = (np.sum([(x - np.mean(sample)) ** 2 for x in sample]))/(N-1)\n",
    "\n",
    "lower_bound = 2 * np.mean(sample) / 3 - 3.92 * np.sqrt(S*(N - 1))/(3 * N)\n",
    "upper_bound = 2 * np.mean(sample) / 3 + 3.92 * np.sqrt(S*(N - 1))/(3 * N)\n",
    "\n",
    "console.print(Panel(Text(f\"{lower_bound} < θ < {upper_bound}\\n\\tl = {upper_bound - lower_bound}\",\n",
    "                         style=\"bold\"),\n",
    "                    title=\"Асимптотический доверительный интервал (О.М.М.)\"),\n",
    "                    justify=\"left\")\n",
    "\n",
    "confidence_intervals[\"Асимптотический доверительный интервал (О.М.М.)\"] =\\\n",
    "    upper_bound - lower_bound"
   ]
  },
  {
   "cell_type": "markdown",
   "metadata": {},
   "source": [
    "## $ \\text{g) Численно постройте bootstrap'овский} \\\\ \\text{ доверительный интервал.} $"
   ]
  },
  {
   "cell_type": "code",
   "execution_count": 10,
   "metadata": {},
   "outputs": [],
   "source": [
    "# Количество повторений bootstrap\n",
    "bootstrap_iteration = 1000\n",
    "\n",
    "# Полученная О.М.П.\n",
    "theta_OMP = (N + 1) * np.max(sample) / (2 * N + 1)"
   ]
  },
  {
   "cell_type": "code",
   "execution_count": 11,
   "metadata": {},
   "outputs": [],
   "source": [
    "bootstrap_delta: list[float] = []\n",
    "\n",
    "for _ in range(bootstrap_iteration):\n",
    "    bootstrap_delta.append((N + 1) * np.max(np.random.choice(sample, size=N)) /\\\n",
    "                            (2 * N + 1) - theta_OMP)"
   ]
  },
  {
   "cell_type": "code",
   "execution_count": 12,
   "metadata": {},
   "outputs": [
    {
     "data": {
      "text/html": [
       "<pre style=\"white-space:pre;overflow-x:auto;line-height:normal;font-family:Menlo,'DejaVu Sans Mono',consolas,'Courier New',monospace\">╭─ bootstrap'овский доверительный интервал ──╮                                                                     \n",
       "│ <span style=\"font-weight: bold\">999.9759228031902 &lt; θ &lt; 1005.7158717361076</span> │                                                                     \n",
       "│ <span style=\"font-weight: bold\">        l = 5.7399489329174               </span> │                                                                     \n",
       "╰────────────────────────────────────────────╯                                                                     \n",
       "</pre>\n"
      ],
      "text/plain": [
       "╭─ bootstrap'овский доверительный интервал ──╮                                                                     \n",
       "│ \u001b[1m999.9759228031902 < θ < 1005.7158717361076\u001b[0m │                                                                     \n",
       "│ \u001b[1m        \u001b[0m\u001b[1ml = 5.7399489329174\u001b[0m\u001b[1m               \u001b[0m │                                                                     \n",
       "╰────────────────────────────────────────────╯                                                                     \n"
      ]
     },
     "metadata": {},
     "output_type": "display_data"
    }
   ],
   "source": [
    "lower_bound = theta_OMP - sorted(bootstrap_delta)[int((1 + beta) * bootstrap_iteration / 2)]\n",
    "upper_bound = theta_OMP - sorted(bootstrap_delta)[int((1 - beta) * bootstrap_iteration / 2)]\n",
    "\n",
    "console.print(Panel(Text(f\"{lower_bound} < θ < {upper_bound}\"\n",
    "                         f\"\\n\\tl = {upper_bound - lower_bound}\",\n",
    "                         style=\"bold\"),\n",
    "                    title=\"bootstrap'овский доверительный интервал\"),\n",
    "                    justify=\"left\")\n",
    "\n",
    "confidence_intervals[\"bootstrap'овский доверительный интервал\"] = upper_bound - lower_bound"
   ]
  },
  {
   "cell_type": "markdown",
   "metadata": {},
   "source": [
    "## $ \\text{g)  Сравнить все интервалы.} $"
   ]
  },
  {
   "cell_type": "code",
   "execution_count": 13,
   "metadata": {},
   "outputs": [
    {
     "data": {
      "text/html": [
       "<pre style=\"white-space:pre;overflow-x:auto;line-height:normal;font-family:Menlo,'DejaVu Sans Mono',consolas,'Courier New',monospace\">Доверительные интервалы <span style=\"font-weight: bold\">(</span>в порядке улучшения<span style=\"font-weight: bold\">)</span>:\n",
       "\n",
       " <span style=\"font-weight: bold\">bootstrap'овский доверительный интервал</span> <span style=\"font-weight: bold\">(</span><span style=\"color: #008080; text-decoration-color: #008080\">l = </span><span style=\"color: #008080; text-decoration-color: #008080; font-weight: bold\">5.74</span><span style=\"font-weight: bold\">)</span>\n",
       " <span style=\"font-weight: bold\">Точный доверительный интервал</span> <span style=\"font-weight: bold\">(</span><span style=\"color: #008080; text-decoration-color: #008080\">l = </span><span style=\"color: #008080; text-decoration-color: #008080; font-weight: bold\">18.22</span><span style=\"font-weight: bold\">)</span>\n",
       " <span style=\"font-weight: bold\">Асимптотический доверительный интервал (О.М.М.)</span> <span style=\"font-weight: bold\">(</span><span style=\"color: #008080; text-decoration-color: #008080\">l = </span><span style=\"color: #008080; text-decoration-color: #008080; font-weight: bold\">75.87</span><span style=\"font-weight: bold\">)</span>\n",
       "\n",
       "</pre>\n"
      ],
      "text/plain": [
       "Доверительные интервалы \u001b[1m(\u001b[0mв порядке улучшения\u001b[1m)\u001b[0m:\n",
       "\n",
       " \u001b[1mbootstrap'овский доверительный интервал\u001b[0m \u001b[1m(\u001b[0m\u001b[36ml = \u001b[0m\u001b[1;36m5.74\u001b[0m\u001b[1m)\u001b[0m\n",
       " \u001b[1mТочный доверительный интервал\u001b[0m \u001b[1m(\u001b[0m\u001b[36ml = \u001b[0m\u001b[1;36m18.22\u001b[0m\u001b[1m)\u001b[0m\n",
       " \u001b[1mАсимптотический доверительный интервал \u001b[0m\u001b[1m(\u001b[0m\u001b[1mО.М.М.\u001b[0m\u001b[1m)\u001b[0m \u001b[1m(\u001b[0m\u001b[36ml = \u001b[0m\u001b[1;36m75.87\u001b[0m\u001b[1m)\u001b[0m\n",
       "\n"
      ]
     },
     "metadata": {},
     "output_type": "display_data"
    }
   ],
   "source": [
    "confidence_intervals = sorted(confidence_intervals.items(), key=lambda item: item[1])\n",
    "\n",
    "output: list[str] = [\"Доверительные интервалы (в порядке улучшения):\\n\\n\"]\n",
    "\n",
    "for interval_name, interval_value in confidence_intervals:\n",
    "    output.append(f\"[bold]{interval_name}[/bold] ([cyan]l = {interval_value:.2f}[/cyan])\\n\")\n",
    "\n",
    "console.print(*output)"
   ]
  },
  {
   "cell_type": "markdown",
   "metadata": {},
   "source": [
    "$ \\text{Если перезапускать код с новыми выборками, можно заметить,} \\\\ \\text{ что bootstrap становится то хуже, то лучше точного.} \\\\ \\text{ Это связано с тем, что он может занижать свою оценку.}$"
   ]
  }
 ],
 "metadata": {
  "kernelspec": {
   "display_name": ".venv",
   "language": "python",
   "name": "python3"
  },
  "language_info": {
   "codemirror_mode": {
    "name": "ipython",
    "version": 3
   },
   "file_extension": ".py",
   "mimetype": "text/x-python",
   "name": "python",
   "nbconvert_exporter": "python",
   "pygments_lexer": "ipython3",
   "version": "3.12.8"
  }
 },
 "nbformat": 4,
 "nbformat_minor": 2
}
